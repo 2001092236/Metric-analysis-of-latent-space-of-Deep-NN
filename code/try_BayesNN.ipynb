{
  "nbformat": 4,
  "nbformat_minor": 0,
  "metadata": {
    "colab": {
      "provenance": [],
      "collapsed_sections": [
        "05edqUrJwuhe",
        "bkKgluUiw0kS"
      ]
    },
    "kernelspec": {
      "name": "python3",
      "display_name": "Python 3"
    },
    "language_info": {
      "name": "python"
    }
  },
  "cells": [
    {
      "cell_type": "markdown",
      "source": [
        "Вопросы:\n",
        "\n",
        "1. Что такое KL-criterion для модели?"
      ],
      "metadata": {
        "id": "uSwMa9Oaf1Ms"
      }
    },
    {
      "cell_type": "code",
      "execution_count": 4,
      "metadata": {
        "colab": {
          "base_uri": "https://localhost:8080/"
        },
        "id": "hK7q-_jjTDFW",
        "outputId": "f1467671-9fe5-419c-cd22-00c0ec21904c"
      },
      "outputs": [
        {
          "output_type": "stream",
          "name": "stdout",
          "text": [
            "Looking in indexes: https://pypi.org/simple, https://us-python.pkg.dev/colab-wheels/public/simple/\n",
            "Requirement already satisfied: torchbnn in /usr/local/lib/python3.9/dist-packages (1.2)\n"
          ]
        }
      ],
      "source": [
        "!pip install torchbnn \n",
        "import numpy as np\n",
        "\n",
        "import torch\n",
        "import torch.nn as nn\n",
        "import torch.optim as optim\n",
        "\n",
        "import torchbnn as bnn"
      ]
    },
    {
      "cell_type": "code",
      "source": [
        "from google.colab import drive\n",
        "import numpy as np\n",
        "import pandas as pd\n",
        "import pickle\n",
        "from tqdm import tqdm_notebook\n",
        "import plotly.graph_objects as go\n",
        "import plotly.express as px\n",
        "import matplotlib.pyplot as plt\n",
        "\n",
        "drive.mount(\"/content/drive\")\n",
        "\n",
        "#warnings.simplefilter('ignore')\n",
        "\n",
        "plt.rcParams['figure.figsize'] = 10, 10\n",
        "plt.rcParams['font.family'] = 'DejaVu Serif'\n",
        "plt.rcParams['lines.linewidth'] = 2\n",
        "plt.rcParams['lines.markersize'] = 8\n",
        "plt.rcParams['xtick.labelsize'] = 16\n",
        "plt.rcParams['ytick.labelsize'] = 16\n",
        "plt.rcParams['legend.fontsize'] = 16\n",
        "plt.rcParams['axes.titlesize'] = 24\n",
        "plt.rcParams['axes.labelsize'] = 8"
      ],
      "metadata": {
        "colab": {
          "base_uri": "https://localhost:8080/"
        },
        "id": "Rc_Inz_xTKby",
        "outputId": "525f6891-b34f-4563-aa16-7f6ddbdc083f"
      },
      "execution_count": 2,
      "outputs": [
        {
          "output_type": "stream",
          "name": "stdout",
          "text": [
            "Mounted at /content/drive\n"
          ]
        }
      ]
    },
    {
      "cell_type": "markdown",
      "source": [
        "#### 1. Скачивание и распаковка датасета."
      ],
      "metadata": {
        "id": "05edqUrJwuhe"
      }
    },
    {
      "cell_type": "code",
      "source": [
        "!git clone https://github.com/mmalekzadeh/motion-sense.git"
      ],
      "metadata": {
        "colab": {
          "base_uri": "https://localhost:8080/"
        },
        "id": "plrhfymunNmz",
        "outputId": "a6f9be2e-5ab2-45d6-d712-880cd9a60c8e"
      },
      "execution_count": 6,
      "outputs": [
        {
          "output_type": "stream",
          "name": "stdout",
          "text": [
            "Cloning into 'motion-sense'...\n",
            "remote: Enumerating objects: 612, done.\u001b[K\n",
            "remote: Counting objects: 100% (7/7), done.\u001b[K\n",
            "remote: Compressing objects: 100% (3/3), done.\u001b[K\n",
            "remote: Total 612 (delta 4), reused 4 (delta 4), pack-reused 605\u001b[K\n",
            "Receiving objects: 100% (612/612), 201.77 MiB | 23.33 MiB/s, done.\n",
            "Resolving deltas: 100% (296/296), done.\n"
          ]
        }
      ]
    },
    {
      "cell_type": "markdown",
      "source": [
        "разархивируем в content все его части (также есть на моем гугл-диске по адресу /content/drive/MyDrive/metric_analysis/datasets/motion-sense) (/content/)"
      ],
      "metadata": {
        "id": "6huNRXFYocuc"
      }
    },
    {
      "cell_type": "code",
      "source": [
        "!cp /content/motion-sense/data/data_subjects_info.csv -d .\n",
        "!unzip -q /content/motion-sense/data/A_DeviceMotion_data.zip -d .\n",
        "!unzip -q /content/motion-sense/data/B_Accelerometer_data.zip -d .\n",
        "!unzip -q /content/motion-sense/data/C_Gyroscope_data.zip -d ."
      ],
      "metadata": {
        "id": "BQMKoDQGnRSe"
      },
      "execution_count": 7,
      "outputs": []
    },
    {
      "cell_type": "code",
      "source": [
        "# !cp /content/motion-sense/data/* /content/drive/MyDrive/metric_analysis/datasets/motion-sense\n",
        "# !unzip -q /content/drive/MyDrive/metric_analysis/datasets/motion-sense/A_DeviceMotion_data.zip -d /content/drive/MyDrive/metric_analysis/datasets/motion-sense/\n",
        "# !unzip -q /content/drive/MyDrive/metric_analysis/datasets/motion-sense/B_Accelerometer_data.zip -d /content/drive/MyDrive/metric_analysis/datasets/motion-sense/\n",
        "# !unzip -q /content/drive/MyDrive/metric_analysis/datasets/motion-sense/C_Gyroscope_data.zip -d /content/drive/MyDrive/metric_analysis/datasets/motion-sense/"
      ],
      "metadata": {
        "id": "FJYMM3lnnwh4"
      },
      "execution_count": 8,
      "outputs": []
    },
    {
      "cell_type": "markdown",
      "source": [
        "Из датасета с большим количеством измерений берем только \"userAcceleration\" во время ходьбы \"wlk\""
      ],
      "metadata": {
        "id": "WqnW2HhlriQv"
      }
    },
    {
      "cell_type": "code",
      "source": [
        "freq = 50 # частота замера = 50ГЦ\n",
        "\n",
        "def get_ds_infos():\n",
        "    \"\"\"\n",
        "    Read the file includes data subject information.\n",
        "    \n",
        "    Data Columns:\n",
        "    0: code [1-24]\n",
        "    1: weight [kg]\n",
        "    2: height [cm]\n",
        "    3: age [years]\n",
        "    4: gender [0:Female, 1:Male]\n",
        "    \n",
        "    Returns:\n",
        "        A pandas DataFrame that contains inforamtion about data subjects' attributes \n",
        "    \"\"\" \n",
        "\n",
        "    dss = pd.read_csv(\"data_subjects_info.csv\")\n",
        "    print(\"[INFO] -- Data subjects' information is imported.\")\n",
        "    \n",
        "    return dss\n",
        "\n",
        "def set_data_types(data_types=[\"userAcceleration\"]):\n",
        "    \"\"\"\n",
        "    Select the sensors and the mode to shape the final dataset.\n",
        "    \n",
        "    Args:\n",
        "        data_types: A list of sensor data type from this list: [attitude, gravity, rotationRate, userAcceleration] \n",
        "\n",
        "    Returns:\n",
        "        It returns a list of columns to use for creating time-series from files.\n",
        "    \"\"\"\n",
        "    dt_list = []\n",
        "    for t in data_types:\n",
        "        if t != \"attitude\":\n",
        "            dt_list.append([t+\".x\",t+\".y\",t+\".z\"])\n",
        "        else:\n",
        "            dt_list.append([t+\".roll\", t+\".pitch\", t+\".yaw\"])\n",
        "\n",
        "    return dt_list\n",
        "\n",
        "\n",
        "def creat_time_series(dt_list, act_labels, trial_codes, mode=\"mag\", labeled=True):\n",
        "    \"\"\"\n",
        "    Args:\n",
        "        dt_list: A list of columns that shows the type of data we want.\n",
        "        act_labels: list of activites\n",
        "        trial_codes: list of trials\n",
        "        mode: It can be \"raw\" which means you want raw data\n",
        "        for every dimention of each data type,\n",
        "        [attitude(roll, pitch, yaw); gravity(x, y, z); rotationRate(x, y, z); userAcceleration(x,y,z)].\n",
        "        or it can be \"mag\" which means you only want the magnitude for each data type: (x^2+y^2+z^2)^(1/2)\n",
        "        labeled: True, if we want a labeld dataset. False, if we only want sensor values.\n",
        "\n",
        "    Returns:\n",
        "        It returns a time-series of sensor data.\n",
        "    \n",
        "    \"\"\"\n",
        "    num_data_cols = len(dt_list) if mode == \"mag\" else len(dt_list*3)\n",
        "\n",
        "    if labeled:\n",
        "        dataset = np.zeros((0,num_data_cols+7)) # \"7\" --> [act, code, weight, height, age, gender, trial] \n",
        "    else:\n",
        "        dataset = np.zeros((0,num_data_cols))\n",
        "        \n",
        "    ds_list = get_ds_infos()\n",
        "    \n",
        "    print(\"[INFO] -- Creating Time-Series\")\n",
        "    for sub_id in ds_list[\"code\"]:\n",
        "        for act_id, act in enumerate(act_labels):\n",
        "            for trial in trial_codes[act_id]:\n",
        "                fname = 'A_DeviceMotion_data/'+act+'_'+str(trial)+'/sub_'+str(int(sub_id))+'.csv'\n",
        "                raw_data = pd.read_csv(fname)\n",
        "                raw_data = raw_data.drop(['Unnamed: 0'], axis=1)\n",
        "                vals = np.zeros((len(raw_data), num_data_cols))\n",
        "                for x_id, axes in enumerate(dt_list):\n",
        "                    if mode == \"mag\":\n",
        "                        vals[:,x_id] = (raw_data[axes]**2).sum(axis=1)**0.5        \n",
        "                    else:\n",
        "                        vals[:,x_id*3:(x_id+1)*3] = raw_data[axes].values\n",
        "                    vals = vals[:,:num_data_cols]\n",
        "                if labeled:\n",
        "                    lbls = np.array([[act_id,\n",
        "                            sub_id-1,\n",
        "                            ds_list[\"weight\"][sub_id-1],\n",
        "                            ds_list[\"height\"][sub_id-1],\n",
        "                            ds_list[\"age\"][sub_id-1],\n",
        "                            ds_list[\"gender\"][sub_id-1],\n",
        "                            trial          \n",
        "                           ]]*len(raw_data))\n",
        "                    vals = np.concatenate((vals, lbls), axis=1)\n",
        "                dataset = np.append(dataset,vals, axis=0)\n",
        "    cols = []\n",
        "    for axes in dt_list:\n",
        "        if mode == \"raw\":\n",
        "            cols += axes\n",
        "        else:\n",
        "            cols += [str(axes[0][:-2])]\n",
        "            \n",
        "    if labeled:\n",
        "        cols += [\"act\", \"id\", \"weight\", \"height\", \"age\", \"gender\", \"trial\"]\n",
        "    \n",
        "    dataset = pd.DataFrame(data=dataset, columns=cols)\n",
        "    return dataset\n",
        "#________________________________\n",
        "\n",
        "\n",
        "ACT_LABELS = [\"dws\",\"ups\", \"wlk\", \"jog\", \"std\", \"sit\"]\n",
        "TRIAL_CODES = {\n",
        "    ACT_LABELS[0]:[1,2,11],\n",
        "    ACT_LABELS[1]:[3,4,12],\n",
        "    ACT_LABELS[2]:[7,8,15],\n",
        "    ACT_LABELS[3]:[9,16],\n",
        "    ACT_LABELS[4]:[6,14],\n",
        "    ACT_LABELS[5]:[5,13]\n",
        "}\n",
        "\n",
        "## Here we set parameter to build labeld time-series from dataset of \"(A)DeviceMotion_data\"\n",
        "## attitude(roll, pitch, yaw); gravity(x, y, z); rotationRate(x, y, z); userAcceleration(x,y,z)\n",
        "sdt = [\"userAcceleration\"] # attitude, gravity, rotationRate, userAcceleration\n",
        "print(\"[INFO] -- Selected sensor data types: \"+str(sdt))    \n",
        "act_labels = [\"wlk\"] # ACT_LABELS [2:3]\n",
        "print(\"[INFO] -- Selected activites: \"+str(act_labels))    \n",
        "trial_codes = [TRIAL_CODES[act] for act in act_labels]\n",
        "dt_list = set_data_types(sdt)\n",
        "print(dt_list)\n",
        "dataset = creat_time_series(dt_list, act_labels, trial_codes, mode=\"raw\", labeled=True)\n",
        "print(\"[INFO] -- Shape of time-Series dataset:\"+str(dataset.shape))    \n",
        "dataset.head()"
      ],
      "metadata": {
        "colab": {
          "base_uri": "https://localhost:8080/",
          "height": 379
        },
        "id": "Ir-FBmXflsnd",
        "outputId": "12a57885-3522-4551-ddf3-051025d3ddf6"
      },
      "execution_count": 9,
      "outputs": [
        {
          "output_type": "stream",
          "name": "stdout",
          "text": [
            "[INFO] -- Selected sensor data types: ['userAcceleration']\n",
            "[INFO] -- Selected activites: ['wlk']\n",
            "[['userAcceleration.x', 'userAcceleration.y', 'userAcceleration.z']]\n",
            "[INFO] -- Data subjects' information is imported.\n",
            "[INFO] -- Creating Time-Series\n",
            "[INFO] -- Shape of time-Series dataset:(344288, 10)\n"
          ]
        },
        {
          "output_type": "execute_result",
          "data": {
            "text/plain": [
              "   userAcceleration.x  userAcceleration.y  userAcceleration.z  act   id  \\\n",
              "0            0.091702            0.415881            0.093689  0.0  0.0   \n",
              "1            0.367412            0.004566           -0.106082  0.0  0.0   \n",
              "2            0.172093           -0.217483           -0.163387  0.0  0.0   \n",
              "3            0.004957           -0.237566           -0.019080  0.0  0.0   \n",
              "4           -0.040292           -0.241461            0.015201  0.0  0.0   \n",
              "\n",
              "   weight  height   age  gender  trial  \n",
              "0   102.0   188.0  46.0     1.0    7.0  \n",
              "1   102.0   188.0  46.0     1.0    7.0  \n",
              "2   102.0   188.0  46.0     1.0    7.0  \n",
              "3   102.0   188.0  46.0     1.0    7.0  \n",
              "4   102.0   188.0  46.0     1.0    7.0  "
            ],
            "text/html": [
              "\n",
              "  <div id=\"df-ab1f227e-320d-46da-bd14-b17529cc50b9\">\n",
              "    <div class=\"colab-df-container\">\n",
              "      <div>\n",
              "<style scoped>\n",
              "    .dataframe tbody tr th:only-of-type {\n",
              "        vertical-align: middle;\n",
              "    }\n",
              "\n",
              "    .dataframe tbody tr th {\n",
              "        vertical-align: top;\n",
              "    }\n",
              "\n",
              "    .dataframe thead th {\n",
              "        text-align: right;\n",
              "    }\n",
              "</style>\n",
              "<table border=\"1\" class=\"dataframe\">\n",
              "  <thead>\n",
              "    <tr style=\"text-align: right;\">\n",
              "      <th></th>\n",
              "      <th>userAcceleration.x</th>\n",
              "      <th>userAcceleration.y</th>\n",
              "      <th>userAcceleration.z</th>\n",
              "      <th>act</th>\n",
              "      <th>id</th>\n",
              "      <th>weight</th>\n",
              "      <th>height</th>\n",
              "      <th>age</th>\n",
              "      <th>gender</th>\n",
              "      <th>trial</th>\n",
              "    </tr>\n",
              "  </thead>\n",
              "  <tbody>\n",
              "    <tr>\n",
              "      <th>0</th>\n",
              "      <td>0.091702</td>\n",
              "      <td>0.415881</td>\n",
              "      <td>0.093689</td>\n",
              "      <td>0.0</td>\n",
              "      <td>0.0</td>\n",
              "      <td>102.0</td>\n",
              "      <td>188.0</td>\n",
              "      <td>46.0</td>\n",
              "      <td>1.0</td>\n",
              "      <td>7.0</td>\n",
              "    </tr>\n",
              "    <tr>\n",
              "      <th>1</th>\n",
              "      <td>0.367412</td>\n",
              "      <td>0.004566</td>\n",
              "      <td>-0.106082</td>\n",
              "      <td>0.0</td>\n",
              "      <td>0.0</td>\n",
              "      <td>102.0</td>\n",
              "      <td>188.0</td>\n",
              "      <td>46.0</td>\n",
              "      <td>1.0</td>\n",
              "      <td>7.0</td>\n",
              "    </tr>\n",
              "    <tr>\n",
              "      <th>2</th>\n",
              "      <td>0.172093</td>\n",
              "      <td>-0.217483</td>\n",
              "      <td>-0.163387</td>\n",
              "      <td>0.0</td>\n",
              "      <td>0.0</td>\n",
              "      <td>102.0</td>\n",
              "      <td>188.0</td>\n",
              "      <td>46.0</td>\n",
              "      <td>1.0</td>\n",
              "      <td>7.0</td>\n",
              "    </tr>\n",
              "    <tr>\n",
              "      <th>3</th>\n",
              "      <td>0.004957</td>\n",
              "      <td>-0.237566</td>\n",
              "      <td>-0.019080</td>\n",
              "      <td>0.0</td>\n",
              "      <td>0.0</td>\n",
              "      <td>102.0</td>\n",
              "      <td>188.0</td>\n",
              "      <td>46.0</td>\n",
              "      <td>1.0</td>\n",
              "      <td>7.0</td>\n",
              "    </tr>\n",
              "    <tr>\n",
              "      <th>4</th>\n",
              "      <td>-0.040292</td>\n",
              "      <td>-0.241461</td>\n",
              "      <td>0.015201</td>\n",
              "      <td>0.0</td>\n",
              "      <td>0.0</td>\n",
              "      <td>102.0</td>\n",
              "      <td>188.0</td>\n",
              "      <td>46.0</td>\n",
              "      <td>1.0</td>\n",
              "      <td>7.0</td>\n",
              "    </tr>\n",
              "  </tbody>\n",
              "</table>\n",
              "</div>\n",
              "      <button class=\"colab-df-convert\" onclick=\"convertToInteractive('df-ab1f227e-320d-46da-bd14-b17529cc50b9')\"\n",
              "              title=\"Convert this dataframe to an interactive table.\"\n",
              "              style=\"display:none;\">\n",
              "        \n",
              "  <svg xmlns=\"http://www.w3.org/2000/svg\" height=\"24px\"viewBox=\"0 0 24 24\"\n",
              "       width=\"24px\">\n",
              "    <path d=\"M0 0h24v24H0V0z\" fill=\"none\"/>\n",
              "    <path d=\"M18.56 5.44l.94 2.06.94-2.06 2.06-.94-2.06-.94-.94-2.06-.94 2.06-2.06.94zm-11 1L8.5 8.5l.94-2.06 2.06-.94-2.06-.94L8.5 2.5l-.94 2.06-2.06.94zm10 10l.94 2.06.94-2.06 2.06-.94-2.06-.94-.94-2.06-.94 2.06-2.06.94z\"/><path d=\"M17.41 7.96l-1.37-1.37c-.4-.4-.92-.59-1.43-.59-.52 0-1.04.2-1.43.59L10.3 9.45l-7.72 7.72c-.78.78-.78 2.05 0 2.83L4 21.41c.39.39.9.59 1.41.59.51 0 1.02-.2 1.41-.59l7.78-7.78 2.81-2.81c.8-.78.8-2.07 0-2.86zM5.41 20L4 18.59l7.72-7.72 1.47 1.35L5.41 20z\"/>\n",
              "  </svg>\n",
              "      </button>\n",
              "      \n",
              "  <style>\n",
              "    .colab-df-container {\n",
              "      display:flex;\n",
              "      flex-wrap:wrap;\n",
              "      gap: 12px;\n",
              "    }\n",
              "\n",
              "    .colab-df-convert {\n",
              "      background-color: #E8F0FE;\n",
              "      border: none;\n",
              "      border-radius: 50%;\n",
              "      cursor: pointer;\n",
              "      display: none;\n",
              "      fill: #1967D2;\n",
              "      height: 32px;\n",
              "      padding: 0 0 0 0;\n",
              "      width: 32px;\n",
              "    }\n",
              "\n",
              "    .colab-df-convert:hover {\n",
              "      background-color: #E2EBFA;\n",
              "      box-shadow: 0px 1px 2px rgba(60, 64, 67, 0.3), 0px 1px 3px 1px rgba(60, 64, 67, 0.15);\n",
              "      fill: #174EA6;\n",
              "    }\n",
              "\n",
              "    [theme=dark] .colab-df-convert {\n",
              "      background-color: #3B4455;\n",
              "      fill: #D2E3FC;\n",
              "    }\n",
              "\n",
              "    [theme=dark] .colab-df-convert:hover {\n",
              "      background-color: #434B5C;\n",
              "      box-shadow: 0px 1px 3px 1px rgba(0, 0, 0, 0.15);\n",
              "      filter: drop-shadow(0px 1px 2px rgba(0, 0, 0, 0.3));\n",
              "      fill: #FFFFFF;\n",
              "    }\n",
              "  </style>\n",
              "\n",
              "      <script>\n",
              "        const buttonEl =\n",
              "          document.querySelector('#df-ab1f227e-320d-46da-bd14-b17529cc50b9 button.colab-df-convert');\n",
              "        buttonEl.style.display =\n",
              "          google.colab.kernel.accessAllowed ? 'block' : 'none';\n",
              "\n",
              "        async function convertToInteractive(key) {\n",
              "          const element = document.querySelector('#df-ab1f227e-320d-46da-bd14-b17529cc50b9');\n",
              "          const dataTable =\n",
              "            await google.colab.kernel.invokeFunction('convertToInteractive',\n",
              "                                                     [key], {});\n",
              "          if (!dataTable) return;\n",
              "\n",
              "          const docLinkHtml = 'Like what you see? Visit the ' +\n",
              "            '<a target=\"_blank\" href=https://colab.research.google.com/notebooks/data_table.ipynb>data table notebook</a>'\n",
              "            + ' to learn more about interactive tables.';\n",
              "          element.innerHTML = '';\n",
              "          dataTable['output_type'] = 'display_data';\n",
              "          await google.colab.output.renderOutput(dataTable, element);\n",
              "          const docLink = document.createElement('div');\n",
              "          docLink.innerHTML = docLinkHtml;\n",
              "          element.appendChild(docLink);\n",
              "        }\n",
              "      </script>\n",
              "    </div>\n",
              "  </div>\n",
              "  "
            ]
          },
          "metadata": {},
          "execution_count": 9
        }
      ]
    },
    {
      "cell_type": "markdown",
      "source": [
        "Возьмем userAcceleration по x-y для id=0.0 (первый участник) и далее будем использовать его\n"
      ],
      "metadata": {
        "id": "CKwIf2I3tr9b"
      }
    },
    {
      "cell_type": "code",
      "source": [
        "first_user_data = dataset[dataset['id'] == 0.0]\n",
        "first_user_data"
      ],
      "metadata": {
        "colab": {
          "base_uri": "https://localhost:8080/",
          "height": 488
        },
        "id": "pnxF0w3wt0Tw",
        "outputId": "d4e5ba42-930c-4b5c-dacc-b5f95c827ac6"
      },
      "execution_count": 10,
      "outputs": [
        {
          "output_type": "execute_result",
          "data": {
            "text/plain": [
              "       userAcceleration.x  userAcceleration.y  userAcceleration.z  act   id  \\\n",
              "0                0.091702            0.415881            0.093689  0.0  0.0   \n",
              "1                0.367412            0.004566           -0.106082  0.0  0.0   \n",
              "2                0.172093           -0.217483           -0.163387  0.0  0.0   \n",
              "3                0.004957           -0.237566           -0.019080  0.0  0.0   \n",
              "4               -0.040292           -0.241461            0.015201  0.0  0.0   \n",
              "...                   ...                 ...                 ...  ...  ...   \n",
              "11107            0.045689            0.611858           -0.873182  0.0  0.0   \n",
              "11108            0.404748            1.027273           -0.621450  0.0  0.0   \n",
              "11109            0.407576            0.258908           -0.084899  0.0  0.0   \n",
              "11110            0.230798           -0.047420            0.175331  0.0  0.0   \n",
              "11111           -0.183692           -0.401772            0.111459  0.0  0.0   \n",
              "\n",
              "       weight  height   age  gender  trial  \n",
              "0       102.0   188.0  46.0     1.0    7.0  \n",
              "1       102.0   188.0  46.0     1.0    7.0  \n",
              "2       102.0   188.0  46.0     1.0    7.0  \n",
              "3       102.0   188.0  46.0     1.0    7.0  \n",
              "4       102.0   188.0  46.0     1.0    7.0  \n",
              "...       ...     ...   ...     ...    ...  \n",
              "11107   102.0   188.0  46.0     1.0   15.0  \n",
              "11108   102.0   188.0  46.0     1.0   15.0  \n",
              "11109   102.0   188.0  46.0     1.0   15.0  \n",
              "11110   102.0   188.0  46.0     1.0   15.0  \n",
              "11111   102.0   188.0  46.0     1.0   15.0  \n",
              "\n",
              "[11112 rows x 10 columns]"
            ],
            "text/html": [
              "\n",
              "  <div id=\"df-d2ad8f7f-0450-41ff-a231-0bc6fef68ed1\">\n",
              "    <div class=\"colab-df-container\">\n",
              "      <div>\n",
              "<style scoped>\n",
              "    .dataframe tbody tr th:only-of-type {\n",
              "        vertical-align: middle;\n",
              "    }\n",
              "\n",
              "    .dataframe tbody tr th {\n",
              "        vertical-align: top;\n",
              "    }\n",
              "\n",
              "    .dataframe thead th {\n",
              "        text-align: right;\n",
              "    }\n",
              "</style>\n",
              "<table border=\"1\" class=\"dataframe\">\n",
              "  <thead>\n",
              "    <tr style=\"text-align: right;\">\n",
              "      <th></th>\n",
              "      <th>userAcceleration.x</th>\n",
              "      <th>userAcceleration.y</th>\n",
              "      <th>userAcceleration.z</th>\n",
              "      <th>act</th>\n",
              "      <th>id</th>\n",
              "      <th>weight</th>\n",
              "      <th>height</th>\n",
              "      <th>age</th>\n",
              "      <th>gender</th>\n",
              "      <th>trial</th>\n",
              "    </tr>\n",
              "  </thead>\n",
              "  <tbody>\n",
              "    <tr>\n",
              "      <th>0</th>\n",
              "      <td>0.091702</td>\n",
              "      <td>0.415881</td>\n",
              "      <td>0.093689</td>\n",
              "      <td>0.0</td>\n",
              "      <td>0.0</td>\n",
              "      <td>102.0</td>\n",
              "      <td>188.0</td>\n",
              "      <td>46.0</td>\n",
              "      <td>1.0</td>\n",
              "      <td>7.0</td>\n",
              "    </tr>\n",
              "    <tr>\n",
              "      <th>1</th>\n",
              "      <td>0.367412</td>\n",
              "      <td>0.004566</td>\n",
              "      <td>-0.106082</td>\n",
              "      <td>0.0</td>\n",
              "      <td>0.0</td>\n",
              "      <td>102.0</td>\n",
              "      <td>188.0</td>\n",
              "      <td>46.0</td>\n",
              "      <td>1.0</td>\n",
              "      <td>7.0</td>\n",
              "    </tr>\n",
              "    <tr>\n",
              "      <th>2</th>\n",
              "      <td>0.172093</td>\n",
              "      <td>-0.217483</td>\n",
              "      <td>-0.163387</td>\n",
              "      <td>0.0</td>\n",
              "      <td>0.0</td>\n",
              "      <td>102.0</td>\n",
              "      <td>188.0</td>\n",
              "      <td>46.0</td>\n",
              "      <td>1.0</td>\n",
              "      <td>7.0</td>\n",
              "    </tr>\n",
              "    <tr>\n",
              "      <th>3</th>\n",
              "      <td>0.004957</td>\n",
              "      <td>-0.237566</td>\n",
              "      <td>-0.019080</td>\n",
              "      <td>0.0</td>\n",
              "      <td>0.0</td>\n",
              "      <td>102.0</td>\n",
              "      <td>188.0</td>\n",
              "      <td>46.0</td>\n",
              "      <td>1.0</td>\n",
              "      <td>7.0</td>\n",
              "    </tr>\n",
              "    <tr>\n",
              "      <th>4</th>\n",
              "      <td>-0.040292</td>\n",
              "      <td>-0.241461</td>\n",
              "      <td>0.015201</td>\n",
              "      <td>0.0</td>\n",
              "      <td>0.0</td>\n",
              "      <td>102.0</td>\n",
              "      <td>188.0</td>\n",
              "      <td>46.0</td>\n",
              "      <td>1.0</td>\n",
              "      <td>7.0</td>\n",
              "    </tr>\n",
              "    <tr>\n",
              "      <th>...</th>\n",
              "      <td>...</td>\n",
              "      <td>...</td>\n",
              "      <td>...</td>\n",
              "      <td>...</td>\n",
              "      <td>...</td>\n",
              "      <td>...</td>\n",
              "      <td>...</td>\n",
              "      <td>...</td>\n",
              "      <td>...</td>\n",
              "      <td>...</td>\n",
              "    </tr>\n",
              "    <tr>\n",
              "      <th>11107</th>\n",
              "      <td>0.045689</td>\n",
              "      <td>0.611858</td>\n",
              "      <td>-0.873182</td>\n",
              "      <td>0.0</td>\n",
              "      <td>0.0</td>\n",
              "      <td>102.0</td>\n",
              "      <td>188.0</td>\n",
              "      <td>46.0</td>\n",
              "      <td>1.0</td>\n",
              "      <td>15.0</td>\n",
              "    </tr>\n",
              "    <tr>\n",
              "      <th>11108</th>\n",
              "      <td>0.404748</td>\n",
              "      <td>1.027273</td>\n",
              "      <td>-0.621450</td>\n",
              "      <td>0.0</td>\n",
              "      <td>0.0</td>\n",
              "      <td>102.0</td>\n",
              "      <td>188.0</td>\n",
              "      <td>46.0</td>\n",
              "      <td>1.0</td>\n",
              "      <td>15.0</td>\n",
              "    </tr>\n",
              "    <tr>\n",
              "      <th>11109</th>\n",
              "      <td>0.407576</td>\n",
              "      <td>0.258908</td>\n",
              "      <td>-0.084899</td>\n",
              "      <td>0.0</td>\n",
              "      <td>0.0</td>\n",
              "      <td>102.0</td>\n",
              "      <td>188.0</td>\n",
              "      <td>46.0</td>\n",
              "      <td>1.0</td>\n",
              "      <td>15.0</td>\n",
              "    </tr>\n",
              "    <tr>\n",
              "      <th>11110</th>\n",
              "      <td>0.230798</td>\n",
              "      <td>-0.047420</td>\n",
              "      <td>0.175331</td>\n",
              "      <td>0.0</td>\n",
              "      <td>0.0</td>\n",
              "      <td>102.0</td>\n",
              "      <td>188.0</td>\n",
              "      <td>46.0</td>\n",
              "      <td>1.0</td>\n",
              "      <td>15.0</td>\n",
              "    </tr>\n",
              "    <tr>\n",
              "      <th>11111</th>\n",
              "      <td>-0.183692</td>\n",
              "      <td>-0.401772</td>\n",
              "      <td>0.111459</td>\n",
              "      <td>0.0</td>\n",
              "      <td>0.0</td>\n",
              "      <td>102.0</td>\n",
              "      <td>188.0</td>\n",
              "      <td>46.0</td>\n",
              "      <td>1.0</td>\n",
              "      <td>15.0</td>\n",
              "    </tr>\n",
              "  </tbody>\n",
              "</table>\n",
              "<p>11112 rows × 10 columns</p>\n",
              "</div>\n",
              "      <button class=\"colab-df-convert\" onclick=\"convertToInteractive('df-d2ad8f7f-0450-41ff-a231-0bc6fef68ed1')\"\n",
              "              title=\"Convert this dataframe to an interactive table.\"\n",
              "              style=\"display:none;\">\n",
              "        \n",
              "  <svg xmlns=\"http://www.w3.org/2000/svg\" height=\"24px\"viewBox=\"0 0 24 24\"\n",
              "       width=\"24px\">\n",
              "    <path d=\"M0 0h24v24H0V0z\" fill=\"none\"/>\n",
              "    <path d=\"M18.56 5.44l.94 2.06.94-2.06 2.06-.94-2.06-.94-.94-2.06-.94 2.06-2.06.94zm-11 1L8.5 8.5l.94-2.06 2.06-.94-2.06-.94L8.5 2.5l-.94 2.06-2.06.94zm10 10l.94 2.06.94-2.06 2.06-.94-2.06-.94-.94-2.06-.94 2.06-2.06.94z\"/><path d=\"M17.41 7.96l-1.37-1.37c-.4-.4-.92-.59-1.43-.59-.52 0-1.04.2-1.43.59L10.3 9.45l-7.72 7.72c-.78.78-.78 2.05 0 2.83L4 21.41c.39.39.9.59 1.41.59.51 0 1.02-.2 1.41-.59l7.78-7.78 2.81-2.81c.8-.78.8-2.07 0-2.86zM5.41 20L4 18.59l7.72-7.72 1.47 1.35L5.41 20z\"/>\n",
              "  </svg>\n",
              "      </button>\n",
              "      \n",
              "  <style>\n",
              "    .colab-df-container {\n",
              "      display:flex;\n",
              "      flex-wrap:wrap;\n",
              "      gap: 12px;\n",
              "    }\n",
              "\n",
              "    .colab-df-convert {\n",
              "      background-color: #E8F0FE;\n",
              "      border: none;\n",
              "      border-radius: 50%;\n",
              "      cursor: pointer;\n",
              "      display: none;\n",
              "      fill: #1967D2;\n",
              "      height: 32px;\n",
              "      padding: 0 0 0 0;\n",
              "      width: 32px;\n",
              "    }\n",
              "\n",
              "    .colab-df-convert:hover {\n",
              "      background-color: #E2EBFA;\n",
              "      box-shadow: 0px 1px 2px rgba(60, 64, 67, 0.3), 0px 1px 3px 1px rgba(60, 64, 67, 0.15);\n",
              "      fill: #174EA6;\n",
              "    }\n",
              "\n",
              "    [theme=dark] .colab-df-convert {\n",
              "      background-color: #3B4455;\n",
              "      fill: #D2E3FC;\n",
              "    }\n",
              "\n",
              "    [theme=dark] .colab-df-convert:hover {\n",
              "      background-color: #434B5C;\n",
              "      box-shadow: 0px 1px 3px 1px rgba(0, 0, 0, 0.15);\n",
              "      filter: drop-shadow(0px 1px 2px rgba(0, 0, 0, 0.3));\n",
              "      fill: #FFFFFF;\n",
              "    }\n",
              "  </style>\n",
              "\n",
              "      <script>\n",
              "        const buttonEl =\n",
              "          document.querySelector('#df-d2ad8f7f-0450-41ff-a231-0bc6fef68ed1 button.colab-df-convert');\n",
              "        buttonEl.style.display =\n",
              "          google.colab.kernel.accessAllowed ? 'block' : 'none';\n",
              "\n",
              "        async function convertToInteractive(key) {\n",
              "          const element = document.querySelector('#df-d2ad8f7f-0450-41ff-a231-0bc6fef68ed1');\n",
              "          const dataTable =\n",
              "            await google.colab.kernel.invokeFunction('convertToInteractive',\n",
              "                                                     [key], {});\n",
              "          if (!dataTable) return;\n",
              "\n",
              "          const docLinkHtml = 'Like what you see? Visit the ' +\n",
              "            '<a target=\"_blank\" href=https://colab.research.google.com/notebooks/data_table.ipynb>data table notebook</a>'\n",
              "            + ' to learn more about interactive tables.';\n",
              "          element.innerHTML = '';\n",
              "          dataTable['output_type'] = 'display_data';\n",
              "          await google.colab.output.renderOutput(dataTable, element);\n",
              "          const docLink = document.createElement('div');\n",
              "          docLink.innerHTML = docLinkHtml;\n",
              "          element.appendChild(docLink);\n",
              "        }\n",
              "      </script>\n",
              "    </div>\n",
              "  </div>\n",
              "  "
            ]
          },
          "metadata": {},
          "execution_count": 10
        }
      ]
    },
    {
      "cell_type": "code",
      "source": [
        "first_user_data.describe()"
      ],
      "metadata": {
        "colab": {
          "base_uri": "https://localhost:8080/",
          "height": 365
        },
        "id": "hQRwTILlt6bP",
        "outputId": "c18317dd-99b2-4251-fe24-1124572f8c73"
      },
      "execution_count": 11,
      "outputs": [
        {
          "output_type": "execute_result",
          "data": {
            "text/plain": [
              "       userAcceleration.x  userAcceleration.y  userAcceleration.z      act  \\\n",
              "count        11112.000000        11112.000000        11112.000000  11112.0   \n",
              "mean             0.059449            0.177968           -0.259180      0.0   \n",
              "std              0.492574            0.639860            0.512329      0.0   \n",
              "min             -3.330301           -1.645164           -2.616230      0.0   \n",
              "25%             -0.226270           -0.314715           -0.573816      0.0   \n",
              "50%              0.078264            0.139191           -0.226753      0.0   \n",
              "75%              0.391761            0.601875            0.085896      0.0   \n",
              "max              1.968308            2.708035            1.518116      0.0   \n",
              "\n",
              "            id   weight   height      age   gender         trial  \n",
              "count  11112.0  11112.0  11112.0  11112.0  11112.0  11112.000000  \n",
              "mean       0.0    102.0    188.0     46.0      1.0      8.350252  \n",
              "std        0.0      0.0      0.0      0.0      0.0      2.499083  \n",
              "min        0.0    102.0    188.0     46.0      1.0      7.000000  \n",
              "25%        0.0    102.0    188.0     46.0      1.0      7.000000  \n",
              "50%        0.0    102.0    188.0     46.0      1.0      8.000000  \n",
              "75%        0.0    102.0    188.0     46.0      1.0      8.000000  \n",
              "max        0.0    102.0    188.0     46.0      1.0     15.000000  "
            ],
            "text/html": [
              "\n",
              "  <div id=\"df-d73f8dc5-ef3a-4f45-9bbd-718110ec3e3a\">\n",
              "    <div class=\"colab-df-container\">\n",
              "      <div>\n",
              "<style scoped>\n",
              "    .dataframe tbody tr th:only-of-type {\n",
              "        vertical-align: middle;\n",
              "    }\n",
              "\n",
              "    .dataframe tbody tr th {\n",
              "        vertical-align: top;\n",
              "    }\n",
              "\n",
              "    .dataframe thead th {\n",
              "        text-align: right;\n",
              "    }\n",
              "</style>\n",
              "<table border=\"1\" class=\"dataframe\">\n",
              "  <thead>\n",
              "    <tr style=\"text-align: right;\">\n",
              "      <th></th>\n",
              "      <th>userAcceleration.x</th>\n",
              "      <th>userAcceleration.y</th>\n",
              "      <th>userAcceleration.z</th>\n",
              "      <th>act</th>\n",
              "      <th>id</th>\n",
              "      <th>weight</th>\n",
              "      <th>height</th>\n",
              "      <th>age</th>\n",
              "      <th>gender</th>\n",
              "      <th>trial</th>\n",
              "    </tr>\n",
              "  </thead>\n",
              "  <tbody>\n",
              "    <tr>\n",
              "      <th>count</th>\n",
              "      <td>11112.000000</td>\n",
              "      <td>11112.000000</td>\n",
              "      <td>11112.000000</td>\n",
              "      <td>11112.0</td>\n",
              "      <td>11112.0</td>\n",
              "      <td>11112.0</td>\n",
              "      <td>11112.0</td>\n",
              "      <td>11112.0</td>\n",
              "      <td>11112.0</td>\n",
              "      <td>11112.000000</td>\n",
              "    </tr>\n",
              "    <tr>\n",
              "      <th>mean</th>\n",
              "      <td>0.059449</td>\n",
              "      <td>0.177968</td>\n",
              "      <td>-0.259180</td>\n",
              "      <td>0.0</td>\n",
              "      <td>0.0</td>\n",
              "      <td>102.0</td>\n",
              "      <td>188.0</td>\n",
              "      <td>46.0</td>\n",
              "      <td>1.0</td>\n",
              "      <td>8.350252</td>\n",
              "    </tr>\n",
              "    <tr>\n",
              "      <th>std</th>\n",
              "      <td>0.492574</td>\n",
              "      <td>0.639860</td>\n",
              "      <td>0.512329</td>\n",
              "      <td>0.0</td>\n",
              "      <td>0.0</td>\n",
              "      <td>0.0</td>\n",
              "      <td>0.0</td>\n",
              "      <td>0.0</td>\n",
              "      <td>0.0</td>\n",
              "      <td>2.499083</td>\n",
              "    </tr>\n",
              "    <tr>\n",
              "      <th>min</th>\n",
              "      <td>-3.330301</td>\n",
              "      <td>-1.645164</td>\n",
              "      <td>-2.616230</td>\n",
              "      <td>0.0</td>\n",
              "      <td>0.0</td>\n",
              "      <td>102.0</td>\n",
              "      <td>188.0</td>\n",
              "      <td>46.0</td>\n",
              "      <td>1.0</td>\n",
              "      <td>7.000000</td>\n",
              "    </tr>\n",
              "    <tr>\n",
              "      <th>25%</th>\n",
              "      <td>-0.226270</td>\n",
              "      <td>-0.314715</td>\n",
              "      <td>-0.573816</td>\n",
              "      <td>0.0</td>\n",
              "      <td>0.0</td>\n",
              "      <td>102.0</td>\n",
              "      <td>188.0</td>\n",
              "      <td>46.0</td>\n",
              "      <td>1.0</td>\n",
              "      <td>7.000000</td>\n",
              "    </tr>\n",
              "    <tr>\n",
              "      <th>50%</th>\n",
              "      <td>0.078264</td>\n",
              "      <td>0.139191</td>\n",
              "      <td>-0.226753</td>\n",
              "      <td>0.0</td>\n",
              "      <td>0.0</td>\n",
              "      <td>102.0</td>\n",
              "      <td>188.0</td>\n",
              "      <td>46.0</td>\n",
              "      <td>1.0</td>\n",
              "      <td>8.000000</td>\n",
              "    </tr>\n",
              "    <tr>\n",
              "      <th>75%</th>\n",
              "      <td>0.391761</td>\n",
              "      <td>0.601875</td>\n",
              "      <td>0.085896</td>\n",
              "      <td>0.0</td>\n",
              "      <td>0.0</td>\n",
              "      <td>102.0</td>\n",
              "      <td>188.0</td>\n",
              "      <td>46.0</td>\n",
              "      <td>1.0</td>\n",
              "      <td>8.000000</td>\n",
              "    </tr>\n",
              "    <tr>\n",
              "      <th>max</th>\n",
              "      <td>1.968308</td>\n",
              "      <td>2.708035</td>\n",
              "      <td>1.518116</td>\n",
              "      <td>0.0</td>\n",
              "      <td>0.0</td>\n",
              "      <td>102.0</td>\n",
              "      <td>188.0</td>\n",
              "      <td>46.0</td>\n",
              "      <td>1.0</td>\n",
              "      <td>15.000000</td>\n",
              "    </tr>\n",
              "  </tbody>\n",
              "</table>\n",
              "</div>\n",
              "      <button class=\"colab-df-convert\" onclick=\"convertToInteractive('df-d73f8dc5-ef3a-4f45-9bbd-718110ec3e3a')\"\n",
              "              title=\"Convert this dataframe to an interactive table.\"\n",
              "              style=\"display:none;\">\n",
              "        \n",
              "  <svg xmlns=\"http://www.w3.org/2000/svg\" height=\"24px\"viewBox=\"0 0 24 24\"\n",
              "       width=\"24px\">\n",
              "    <path d=\"M0 0h24v24H0V0z\" fill=\"none\"/>\n",
              "    <path d=\"M18.56 5.44l.94 2.06.94-2.06 2.06-.94-2.06-.94-.94-2.06-.94 2.06-2.06.94zm-11 1L8.5 8.5l.94-2.06 2.06-.94-2.06-.94L8.5 2.5l-.94 2.06-2.06.94zm10 10l.94 2.06.94-2.06 2.06-.94-2.06-.94-.94-2.06-.94 2.06-2.06.94z\"/><path d=\"M17.41 7.96l-1.37-1.37c-.4-.4-.92-.59-1.43-.59-.52 0-1.04.2-1.43.59L10.3 9.45l-7.72 7.72c-.78.78-.78 2.05 0 2.83L4 21.41c.39.39.9.59 1.41.59.51 0 1.02-.2 1.41-.59l7.78-7.78 2.81-2.81c.8-.78.8-2.07 0-2.86zM5.41 20L4 18.59l7.72-7.72 1.47 1.35L5.41 20z\"/>\n",
              "  </svg>\n",
              "      </button>\n",
              "      \n",
              "  <style>\n",
              "    .colab-df-container {\n",
              "      display:flex;\n",
              "      flex-wrap:wrap;\n",
              "      gap: 12px;\n",
              "    }\n",
              "\n",
              "    .colab-df-convert {\n",
              "      background-color: #E8F0FE;\n",
              "      border: none;\n",
              "      border-radius: 50%;\n",
              "      cursor: pointer;\n",
              "      display: none;\n",
              "      fill: #1967D2;\n",
              "      height: 32px;\n",
              "      padding: 0 0 0 0;\n",
              "      width: 32px;\n",
              "    }\n",
              "\n",
              "    .colab-df-convert:hover {\n",
              "      background-color: #E2EBFA;\n",
              "      box-shadow: 0px 1px 2px rgba(60, 64, 67, 0.3), 0px 1px 3px 1px rgba(60, 64, 67, 0.15);\n",
              "      fill: #174EA6;\n",
              "    }\n",
              "\n",
              "    [theme=dark] .colab-df-convert {\n",
              "      background-color: #3B4455;\n",
              "      fill: #D2E3FC;\n",
              "    }\n",
              "\n",
              "    [theme=dark] .colab-df-convert:hover {\n",
              "      background-color: #434B5C;\n",
              "      box-shadow: 0px 1px 3px 1px rgba(0, 0, 0, 0.15);\n",
              "      filter: drop-shadow(0px 1px 2px rgba(0, 0, 0, 0.3));\n",
              "      fill: #FFFFFF;\n",
              "    }\n",
              "  </style>\n",
              "\n",
              "      <script>\n",
              "        const buttonEl =\n",
              "          document.querySelector('#df-d73f8dc5-ef3a-4f45-9bbd-718110ec3e3a button.colab-df-convert');\n",
              "        buttonEl.style.display =\n",
              "          google.colab.kernel.accessAllowed ? 'block' : 'none';\n",
              "\n",
              "        async function convertToInteractive(key) {\n",
              "          const element = document.querySelector('#df-d73f8dc5-ef3a-4f45-9bbd-718110ec3e3a');\n",
              "          const dataTable =\n",
              "            await google.colab.kernel.invokeFunction('convertToInteractive',\n",
              "                                                     [key], {});\n",
              "          if (!dataTable) return;\n",
              "\n",
              "          const docLinkHtml = 'Like what you see? Visit the ' +\n",
              "            '<a target=\"_blank\" href=https://colab.research.google.com/notebooks/data_table.ipynb>data table notebook</a>'\n",
              "            + ' to learn more about interactive tables.';\n",
              "          element.innerHTML = '';\n",
              "          dataTable['output_type'] = 'display_data';\n",
              "          await google.colab.output.renderOutput(dataTable, element);\n",
              "          const docLink = document.createElement('div');\n",
              "          docLink.innerHTML = docLinkHtml;\n",
              "          element.appendChild(docLink);\n",
              "        }\n",
              "      </script>\n",
              "    </div>\n",
              "  </div>\n",
              "  "
            ]
          },
          "metadata": {},
          "execution_count": 11
        }
      ]
    },
    {
      "cell_type": "markdown",
      "source": [
        "#### 2. Визуализация  данных"
      ],
      "metadata": {
        "id": "bkKgluUiw0kS"
      }
    },
    {
      "cell_type": "code",
      "source": [
        "x_acc = first_user_data['userAcceleration.x']\n",
        "sec_times = np.arange(len(x_acc)) / freq\n",
        "\n",
        "vis_mask = (sec_times < 10) # покажем только первые 10 сек\n",
        "\n",
        "fig = go.Figure()\n",
        "fig.add_trace(go.Scatter(x=sec_times[vis_mask],\n",
        "                            y = x_acc[vis_mask],\n",
        "                            mode='lines', \n",
        "                            name='x_acc'))\n",
        "\n",
        "fig.update_layout(\n",
        "    title=\"User#0 x-acceleration during walking\",\n",
        "    xaxis_title=\"time, sec\",\n",
        "    yaxis_title=\"Acceleration\",\n",
        "    legend_title=\"Legend Title\",\n",
        "    font=dict(\n",
        "        family=\"DejaVu Serif\",\n",
        "        size=18,\n",
        "        color=\"RebeccaPurple\"\n",
        "    )\n",
        ")\n",
        "\n",
        "fig.show()"
      ],
      "metadata": {
        "colab": {
          "base_uri": "https://localhost:8080/",
          "height": 562
        },
        "id": "vb1cRbYhuE3k",
        "outputId": "b7e00885-4435-4749-eb75-ba9ae68a9a65"
      },
      "execution_count": 12,
      "outputs": [
        {
          "output_type": "display_data",
          "data": {
            "text/html": [
              "<html>\n",
              "<head><meta charset=\"utf-8\" /></head>\n",
              "<body>\n",
              "    <div>            <script src=\"https://cdnjs.cloudflare.com/ajax/libs/mathjax/2.7.5/MathJax.js?config=TeX-AMS-MML_SVG\"></script><script type=\"text/javascript\">if (window.MathJax && window.MathJax.Hub && window.MathJax.Hub.Config) {window.MathJax.Hub.Config({SVG: {font: \"STIX-Web\"}});}</script>                <script type=\"text/javascript\">window.PlotlyConfig = {MathJaxConfig: 'local'};</script>\n",
              "        <script src=\"https://cdn.plot.ly/plotly-2.18.2.min.js\"></script>                <div id=\"ae026e71-e3ee-4db7-80d1-a24b9042843d\" class=\"plotly-graph-div\" style=\"height:525px; width:100%;\"></div>            <script type=\"text/javascript\">                                    window.PLOTLYENV=window.PLOTLYENV || {};                                    if (document.getElementById(\"ae026e71-e3ee-4db7-80d1-a24b9042843d\")) {                    Plotly.newPlot(                        \"ae026e71-e3ee-4db7-80d1-a24b9042843d\",                        [{\"mode\":\"lines\",\"name\":\"x_acc\",\"x\":[0.0,0.02,0.04,0.06,0.08,0.1,0.12,0.14,0.16,0.18,0.2,0.22,0.24,0.26,0.28,0.3,0.32,0.34,0.36,0.38,0.4,0.42,0.44,0.46,0.48,0.5,0.52,0.54,0.56,0.58,0.6,0.62,0.64,0.66,0.68,0.7,0.72,0.74,0.76,0.78,0.8,0.82,0.84,0.86,0.88,0.9,0.92,0.94,0.96,0.98,1.0,1.02,1.04,1.06,1.08,1.1,1.12,1.14,1.16,1.18,1.2,1.22,1.24,1.26,1.28,1.3,1.32,1.34,1.36,1.38,1.4,1.42,1.44,1.46,1.48,1.5,1.52,1.54,1.56,1.58,1.6,1.62,1.64,1.66,1.68,1.7,1.72,1.74,1.76,1.78,1.8,1.82,1.84,1.86,1.88,1.9,1.92,1.94,1.96,1.98,2.0,2.02,2.04,2.06,2.08,2.1,2.12,2.14,2.16,2.18,2.2,2.22,2.24,2.26,2.28,2.3,2.32,2.34,2.36,2.38,2.4,2.42,2.44,2.46,2.48,2.5,2.52,2.54,2.56,2.58,2.6,2.62,2.64,2.66,2.68,2.7,2.72,2.74,2.76,2.78,2.8,2.82,2.84,2.86,2.88,2.9,2.92,2.94,2.96,2.98,3.0,3.02,3.04,3.06,3.08,3.1,3.12,3.14,3.16,3.18,3.2,3.22,3.24,3.26,3.28,3.3,3.32,3.34,3.36,3.38,3.4,3.42,3.44,3.46,3.48,3.5,3.52,3.54,3.56,3.58,3.6,3.62,3.64,3.66,3.68,3.7,3.72,3.74,3.76,3.78,3.8,3.82,3.84,3.86,3.88,3.9,3.92,3.94,3.96,3.98,4.0,4.02,4.04,4.06,4.08,4.1,4.12,4.14,4.16,4.18,4.2,4.22,4.24,4.26,4.28,4.3,4.32,4.34,4.36,4.38,4.4,4.42,4.44,4.46,4.48,4.5,4.52,4.54,4.56,4.58,4.6,4.62,4.64,4.66,4.68,4.7,4.72,4.74,4.76,4.78,4.8,4.82,4.84,4.86,4.88,4.9,4.92,4.94,4.96,4.98,5.0,5.02,5.04,5.06,5.08,5.1,5.12,5.14,5.16,5.18,5.2,5.22,5.24,5.26,5.28,5.3,5.32,5.34,5.36,5.38,5.4,5.42,5.44,5.46,5.48,5.5,5.52,5.54,5.56,5.58,5.6,5.62,5.64,5.66,5.68,5.7,5.72,5.74,5.76,5.78,5.8,5.82,5.84,5.86,5.88,5.9,5.92,5.94,5.96,5.98,6.0,6.02,6.04,6.06,6.08,6.1,6.12,6.14,6.16,6.18,6.2,6.22,6.24,6.26,6.28,6.3,6.32,6.34,6.36,6.38,6.4,6.42,6.44,6.46,6.48,6.5,6.52,6.54,6.56,6.58,6.6,6.62,6.64,6.66,6.68,6.7,6.72,6.74,6.76,6.78,6.8,6.82,6.84,6.86,6.88,6.9,6.92,6.94,6.96,6.98,7.0,7.02,7.04,7.06,7.08,7.1,7.12,7.14,7.16,7.18,7.2,7.22,7.24,7.26,7.28,7.3,7.32,7.34,7.36,7.38,7.4,7.42,7.44,7.46,7.48,7.5,7.52,7.54,7.56,7.58,7.6,7.62,7.64,7.66,7.68,7.7,7.72,7.74,7.76,7.78,7.8,7.82,7.84,7.86,7.88,7.9,7.92,7.94,7.96,7.98,8.0,8.02,8.04,8.06,8.08,8.1,8.12,8.14,8.16,8.18,8.2,8.22,8.24,8.26,8.28,8.3,8.32,8.34,8.36,8.38,8.4,8.42,8.44,8.46,8.48,8.5,8.52,8.54,8.56,8.58,8.6,8.62,8.64,8.66,8.68,8.7,8.72,8.74,8.76,8.78,8.8,8.82,8.84,8.86,8.88,8.9,8.92,8.94,8.96,8.98,9.0,9.02,9.04,9.06,9.08,9.1,9.12,9.14,9.16,9.18,9.2,9.22,9.24,9.26,9.28,9.3,9.32,9.34,9.36,9.38,9.4,9.42,9.44,9.46,9.48,9.5,9.52,9.54,9.56,9.58,9.6,9.62,9.64,9.66,9.68,9.7,9.72,9.74,9.76,9.78,9.8,9.82,9.84,9.86,9.88,9.9,9.92,9.94,9.96,9.98],\"y\":[0.0917019999999999,0.367412,0.172093,0.004957,-0.040292,-0.090778,-0.032102,-0.024607,-0.018565,0.004017,0.069387,0.12574,0.35366,0.387127,0.393543,0.294927,0.412166,0.478221,0.371314,0.2247489999999999,0.196671,-0.5812970000000001,-0.877634,-0.8917579999999999,-0.8388629999999999,-0.613757,-0.372562,0.01713,0.30948,0.139092,-0.063403,-0.262187,-0.2888409999999999,-0.272968,-0.308244,-0.356373,-0.439496,-0.310093,-0.207639,-0.02256,0.044562,0.2261449999999999,0.544142,0.589766,0.456272,0.274846,0.296194,-0.531093,-1.892837,-1.6956650000000002,-0.8925069999999999,-0.193701,-0.258008,-0.276,-0.678806,-0.5727979999999999,-0.1822339999999999,0.171452,0.335925,0.424846,-0.05652,-0.141165,-0.129428,-0.124931,-0.130304,-0.029389,0.11614,0.296682,0.534615,0.509204,0.376942,0.31442,0.401211,0.4841029999999999,0.316752,-0.012899,-0.067884,-0.236093,-0.5398069999999999,-0.875492,-0.960696,-0.865417,-0.398152,-0.15491,-0.057299,-0.170499,-0.225478,-0.253697,-0.237925,-0.11875,-0.2261929999999999,-0.308247,-0.391462,-0.190181,0.045988,0.207452,0.5256529999999999,0.38941,-0.280565,0.048222,0.311957,0.194441,-1.105855,-1.930131,-1.392273,-0.388159,-0.286701,-0.245205,-0.476722,-0.376487,-0.335004,-0.089816,0.477235,0.4860859999999999,0.237086,0.023773,-0.078555,-0.111831,-0.102877,-0.050317,0.011492,0.201194,0.465063,0.5457380000000001,0.426095,0.444525,0.4238,0.183668,0.072202,-0.0618909999999999,-0.382756,-0.5541520000000001,-0.880158,-0.926361,-0.604119,-0.414179,-0.167352,0.22996,0.030611,-0.23001,-0.2913989999999999,-0.312006,-0.274654,-0.338761,-0.380135,-0.401869,-0.341861,-0.0889529999999999,0.086437,0.134934,0.120986,0.081559,0.058752,0.231836,0.3080489999999999,-0.142552,-0.8902100000000001,-0.74975,-0.781472,-0.690964,-0.567606,-0.4667979999999999,-0.5519609999999999,-0.5198510000000001,-0.154613,-0.069147,0.23369,0.4758779999999999,0.2698239999999999,-0.056957,-0.063055,-0.007337,0.062048,0.066594,0.069854,0.261472,0.344882,0.509786,0.435196,0.406526,0.401314,0.386385,0.203968,-0.157348,-0.235391,-0.385789,-0.642312,-0.637049,-0.7625149999999999,-0.564447,-0.585108,-0.12372,0.0186789999999999,-0.155578,-0.210586,-0.249935,-0.267254,-0.23142,-0.302123,-0.413743,-0.389352,-0.191605,0.104803,0.135511,0.672672,0.407486,0.078973,-0.054012,-0.171876,-0.7640100000000001,-1.076715,-0.4270029999999999,-0.378158,-0.295319,-0.467754,-0.546353,-0.372449,-0.102094,-0.023957,0.319194,0.494354,0.320907,-0.076627,-0.120246,-0.10081,0.112953,0.112729,-0.010015,0.003232,0.125933,0.270529,0.3963,0.524135,0.5744630000000001,0.491659,0.380925,0.063229,-0.212248,-0.204393,-0.351982,-0.420539,-0.591225,-0.6815260000000001,-0.33623,-0.070785,-0.075815,-0.332071,-0.393025,-0.372068,-0.216215,-0.251157,-0.2944719999999999,-0.3885679999999999,-0.341502,-0.2305019999999999,0.036149,0.342415,0.643463,0.277492,-0.4709939999999999,-0.380113,0.031027,0.019408,-0.313523,-0.970746,-0.3069699999999999,-0.451808,-0.4053239999999999,-0.279225,-0.382898,-0.294912,-0.1373049999999999,-0.124541,-0.025498,0.294105,0.399686,0.134467,-0.112316,-0.244436,-0.189563,-0.108021,-0.04673,0.040638,0.1092099999999999,0.176353,0.401285,0.50888,0.526275,0.540197,0.2324909999999999,0.013203,-0.0858559999999999,-0.200408,-0.235034,-0.641176,-0.753943,-0.764642,-0.626965,-0.205213,-0.081552,0.009143,-0.192798,-0.301925,-0.381485,-0.412859,-0.469247,-0.5418430000000001,-0.365003,-0.247664,-0.069454,0.392409,0.663937,0.211704,0.036962,-0.000976,0.3095179999999999,0.187925,-1.753548,-1.164173,-0.453025,-0.372992,-0.225269,-0.463501,-0.513468,-0.258264,-0.032567,-0.0526049999999999,0.103498,0.268446,0.046786,-0.100673,-0.07219,-0.009615,-0.023628,-0.031961,-0.020116,0.032121,0.200389,0.255955,0.303352,0.335866,0.339159,0.344959,0.142274,-0.022947,-0.165325,-0.233284,-0.306696,-0.4829819999999999,-0.666586,-0.652386,-0.376176,0.024611,0.008621,-0.13808,-0.327582,-0.372413,-0.226372,-0.269301,-0.344068,-0.4946819999999999,-0.5051220000000001,-0.450827,-0.020216,0.1517099999999999,0.320937,0.403393,0.091056,0.032847,0.398242,0.3765719999999999,0.162819,-1.446541,-1.112826,-0.463752,-0.637046,-0.4313659999999999,-0.376093,-0.321684,-0.258089,0.174745,0.412793,0.506594,0.317176,0.1183109999999999,0.163665,0.241708,0.353364,0.221154,0.128047,0.026735,0.021928,0.032011,0.132955,0.488743,0.510339,0.575507,0.621841,0.63089,0.415434,0.001375,-0.046665,-0.416621,-0.4834859999999999,-0.54193,-0.58119,-0.402633,-0.2449219999999999,0.21098,0.197752,0.101997,-0.13582,-0.218561,-0.191815,-0.178169,-0.2606,-0.308197,-0.328366,-0.189806,-0.090286,0.129331,0.3276219999999999,0.507378,0.4438149999999999,0.467689,0.628783,0.7199409999999999,0.171975,-0.891749,-2.078475,-0.7127439999999999,-0.385049,-0.416318,-0.350331,-0.372776,-0.550041,-0.197542,-0.025019,0.16153,0.528655,0.57975,0.422941,0.269703,0.186848,0.003038,-0.129588,-0.1328089999999999,0.0169789999999999,0.161071,0.429,0.626046,0.57705,0.56598,0.47365,0.370377,0.195994,-0.159182,-0.235905,-0.325208,-0.4870609999999999,-0.6471640000000001,-0.689214,-0.5256,-0.187154,-2.4e-05,0.157753,0.06314,-0.026853,-0.034669,-0.106395,-0.208276,-0.36106,-0.422926,-0.343181,-0.046505,0.177283,0.53304,0.666805,-0.022642,-0.081196,0.2143449999999999,0.641863,0.626336,-0.156127,-2.013735,-1.990592,-0.468141,-0.222492,-0.165316,-0.301374,-0.5445979999999999,-0.370376,0.051092,0.2077429999999999,0.298009,0.611779,0.2362429999999999,0.130299,-0.00352,0.048683],\"type\":\"scatter\"}],                        {\"template\":{\"data\":{\"histogram2dcontour\":[{\"type\":\"histogram2dcontour\",\"colorbar\":{\"outlinewidth\":0,\"ticks\":\"\"},\"colorscale\":[[0.0,\"#0d0887\"],[0.1111111111111111,\"#46039f\"],[0.2222222222222222,\"#7201a8\"],[0.3333333333333333,\"#9c179e\"],[0.4444444444444444,\"#bd3786\"],[0.5555555555555556,\"#d8576b\"],[0.6666666666666666,\"#ed7953\"],[0.7777777777777778,\"#fb9f3a\"],[0.8888888888888888,\"#fdca26\"],[1.0,\"#f0f921\"]]}],\"choropleth\":[{\"type\":\"choropleth\",\"colorbar\":{\"outlinewidth\":0,\"ticks\":\"\"}}],\"histogram2d\":[{\"type\":\"histogram2d\",\"colorbar\":{\"outlinewidth\":0,\"ticks\":\"\"},\"colorscale\":[[0.0,\"#0d0887\"],[0.1111111111111111,\"#46039f\"],[0.2222222222222222,\"#7201a8\"],[0.3333333333333333,\"#9c179e\"],[0.4444444444444444,\"#bd3786\"],[0.5555555555555556,\"#d8576b\"],[0.6666666666666666,\"#ed7953\"],[0.7777777777777778,\"#fb9f3a\"],[0.8888888888888888,\"#fdca26\"],[1.0,\"#f0f921\"]]}],\"heatmap\":[{\"type\":\"heatmap\",\"colorbar\":{\"outlinewidth\":0,\"ticks\":\"\"},\"colorscale\":[[0.0,\"#0d0887\"],[0.1111111111111111,\"#46039f\"],[0.2222222222222222,\"#7201a8\"],[0.3333333333333333,\"#9c179e\"],[0.4444444444444444,\"#bd3786\"],[0.5555555555555556,\"#d8576b\"],[0.6666666666666666,\"#ed7953\"],[0.7777777777777778,\"#fb9f3a\"],[0.8888888888888888,\"#fdca26\"],[1.0,\"#f0f921\"]]}],\"heatmapgl\":[{\"type\":\"heatmapgl\",\"colorbar\":{\"outlinewidth\":0,\"ticks\":\"\"},\"colorscale\":[[0.0,\"#0d0887\"],[0.1111111111111111,\"#46039f\"],[0.2222222222222222,\"#7201a8\"],[0.3333333333333333,\"#9c179e\"],[0.4444444444444444,\"#bd3786\"],[0.5555555555555556,\"#d8576b\"],[0.6666666666666666,\"#ed7953\"],[0.7777777777777778,\"#fb9f3a\"],[0.8888888888888888,\"#fdca26\"],[1.0,\"#f0f921\"]]}],\"contourcarpet\":[{\"type\":\"contourcarpet\",\"colorbar\":{\"outlinewidth\":0,\"ticks\":\"\"}}],\"contour\":[{\"type\":\"contour\",\"colorbar\":{\"outlinewidth\":0,\"ticks\":\"\"},\"colorscale\":[[0.0,\"#0d0887\"],[0.1111111111111111,\"#46039f\"],[0.2222222222222222,\"#7201a8\"],[0.3333333333333333,\"#9c179e\"],[0.4444444444444444,\"#bd3786\"],[0.5555555555555556,\"#d8576b\"],[0.6666666666666666,\"#ed7953\"],[0.7777777777777778,\"#fb9f3a\"],[0.8888888888888888,\"#fdca26\"],[1.0,\"#f0f921\"]]}],\"surface\":[{\"type\":\"surface\",\"colorbar\":{\"outlinewidth\":0,\"ticks\":\"\"},\"colorscale\":[[0.0,\"#0d0887\"],[0.1111111111111111,\"#46039f\"],[0.2222222222222222,\"#7201a8\"],[0.3333333333333333,\"#9c179e\"],[0.4444444444444444,\"#bd3786\"],[0.5555555555555556,\"#d8576b\"],[0.6666666666666666,\"#ed7953\"],[0.7777777777777778,\"#fb9f3a\"],[0.8888888888888888,\"#fdca26\"],[1.0,\"#f0f921\"]]}],\"mesh3d\":[{\"type\":\"mesh3d\",\"colorbar\":{\"outlinewidth\":0,\"ticks\":\"\"}}],\"scatter\":[{\"fillpattern\":{\"fillmode\":\"overlay\",\"size\":10,\"solidity\":0.2},\"type\":\"scatter\"}],\"parcoords\":[{\"type\":\"parcoords\",\"line\":{\"colorbar\":{\"outlinewidth\":0,\"ticks\":\"\"}}}],\"scatterpolargl\":[{\"type\":\"scatterpolargl\",\"marker\":{\"colorbar\":{\"outlinewidth\":0,\"ticks\":\"\"}}}],\"bar\":[{\"error_x\":{\"color\":\"#2a3f5f\"},\"error_y\":{\"color\":\"#2a3f5f\"},\"marker\":{\"line\":{\"color\":\"#E5ECF6\",\"width\":0.5},\"pattern\":{\"fillmode\":\"overlay\",\"size\":10,\"solidity\":0.2}},\"type\":\"bar\"}],\"scattergeo\":[{\"type\":\"scattergeo\",\"marker\":{\"colorbar\":{\"outlinewidth\":0,\"ticks\":\"\"}}}],\"scatterpolar\":[{\"type\":\"scatterpolar\",\"marker\":{\"colorbar\":{\"outlinewidth\":0,\"ticks\":\"\"}}}],\"histogram\":[{\"marker\":{\"pattern\":{\"fillmode\":\"overlay\",\"size\":10,\"solidity\":0.2}},\"type\":\"histogram\"}],\"scattergl\":[{\"type\":\"scattergl\",\"marker\":{\"colorbar\":{\"outlinewidth\":0,\"ticks\":\"\"}}}],\"scatter3d\":[{\"type\":\"scatter3d\",\"line\":{\"colorbar\":{\"outlinewidth\":0,\"ticks\":\"\"}},\"marker\":{\"colorbar\":{\"outlinewidth\":0,\"ticks\":\"\"}}}],\"scattermapbox\":[{\"type\":\"scattermapbox\",\"marker\":{\"colorbar\":{\"outlinewidth\":0,\"ticks\":\"\"}}}],\"scatterternary\":[{\"type\":\"scatterternary\",\"marker\":{\"colorbar\":{\"outlinewidth\":0,\"ticks\":\"\"}}}],\"scattercarpet\":[{\"type\":\"scattercarpet\",\"marker\":{\"colorbar\":{\"outlinewidth\":0,\"ticks\":\"\"}}}],\"carpet\":[{\"aaxis\":{\"endlinecolor\":\"#2a3f5f\",\"gridcolor\":\"white\",\"linecolor\":\"white\",\"minorgridcolor\":\"white\",\"startlinecolor\":\"#2a3f5f\"},\"baxis\":{\"endlinecolor\":\"#2a3f5f\",\"gridcolor\":\"white\",\"linecolor\":\"white\",\"minorgridcolor\":\"white\",\"startlinecolor\":\"#2a3f5f\"},\"type\":\"carpet\"}],\"table\":[{\"cells\":{\"fill\":{\"color\":\"#EBF0F8\"},\"line\":{\"color\":\"white\"}},\"header\":{\"fill\":{\"color\":\"#C8D4E3\"},\"line\":{\"color\":\"white\"}},\"type\":\"table\"}],\"barpolar\":[{\"marker\":{\"line\":{\"color\":\"#E5ECF6\",\"width\":0.5},\"pattern\":{\"fillmode\":\"overlay\",\"size\":10,\"solidity\":0.2}},\"type\":\"barpolar\"}],\"pie\":[{\"automargin\":true,\"type\":\"pie\"}]},\"layout\":{\"autotypenumbers\":\"strict\",\"colorway\":[\"#636efa\",\"#EF553B\",\"#00cc96\",\"#ab63fa\",\"#FFA15A\",\"#19d3f3\",\"#FF6692\",\"#B6E880\",\"#FF97FF\",\"#FECB52\"],\"font\":{\"color\":\"#2a3f5f\"},\"hovermode\":\"closest\",\"hoverlabel\":{\"align\":\"left\"},\"paper_bgcolor\":\"white\",\"plot_bgcolor\":\"#E5ECF6\",\"polar\":{\"bgcolor\":\"#E5ECF6\",\"angularaxis\":{\"gridcolor\":\"white\",\"linecolor\":\"white\",\"ticks\":\"\"},\"radialaxis\":{\"gridcolor\":\"white\",\"linecolor\":\"white\",\"ticks\":\"\"}},\"ternary\":{\"bgcolor\":\"#E5ECF6\",\"aaxis\":{\"gridcolor\":\"white\",\"linecolor\":\"white\",\"ticks\":\"\"},\"baxis\":{\"gridcolor\":\"white\",\"linecolor\":\"white\",\"ticks\":\"\"},\"caxis\":{\"gridcolor\":\"white\",\"linecolor\":\"white\",\"ticks\":\"\"}},\"coloraxis\":{\"colorbar\":{\"outlinewidth\":0,\"ticks\":\"\"}},\"colorscale\":{\"sequential\":[[0.0,\"#0d0887\"],[0.1111111111111111,\"#46039f\"],[0.2222222222222222,\"#7201a8\"],[0.3333333333333333,\"#9c179e\"],[0.4444444444444444,\"#bd3786\"],[0.5555555555555556,\"#d8576b\"],[0.6666666666666666,\"#ed7953\"],[0.7777777777777778,\"#fb9f3a\"],[0.8888888888888888,\"#fdca26\"],[1.0,\"#f0f921\"]],\"sequentialminus\":[[0.0,\"#0d0887\"],[0.1111111111111111,\"#46039f\"],[0.2222222222222222,\"#7201a8\"],[0.3333333333333333,\"#9c179e\"],[0.4444444444444444,\"#bd3786\"],[0.5555555555555556,\"#d8576b\"],[0.6666666666666666,\"#ed7953\"],[0.7777777777777778,\"#fb9f3a\"],[0.8888888888888888,\"#fdca26\"],[1.0,\"#f0f921\"]],\"diverging\":[[0,\"#8e0152\"],[0.1,\"#c51b7d\"],[0.2,\"#de77ae\"],[0.3,\"#f1b6da\"],[0.4,\"#fde0ef\"],[0.5,\"#f7f7f7\"],[0.6,\"#e6f5d0\"],[0.7,\"#b8e186\"],[0.8,\"#7fbc41\"],[0.9,\"#4d9221\"],[1,\"#276419\"]]},\"xaxis\":{\"gridcolor\":\"white\",\"linecolor\":\"white\",\"ticks\":\"\",\"title\":{\"standoff\":15},\"zerolinecolor\":\"white\",\"automargin\":true,\"zerolinewidth\":2},\"yaxis\":{\"gridcolor\":\"white\",\"linecolor\":\"white\",\"ticks\":\"\",\"title\":{\"standoff\":15},\"zerolinecolor\":\"white\",\"automargin\":true,\"zerolinewidth\":2},\"scene\":{\"xaxis\":{\"backgroundcolor\":\"#E5ECF6\",\"gridcolor\":\"white\",\"linecolor\":\"white\",\"showbackground\":true,\"ticks\":\"\",\"zerolinecolor\":\"white\",\"gridwidth\":2},\"yaxis\":{\"backgroundcolor\":\"#E5ECF6\",\"gridcolor\":\"white\",\"linecolor\":\"white\",\"showbackground\":true,\"ticks\":\"\",\"zerolinecolor\":\"white\",\"gridwidth\":2},\"zaxis\":{\"backgroundcolor\":\"#E5ECF6\",\"gridcolor\":\"white\",\"linecolor\":\"white\",\"showbackground\":true,\"ticks\":\"\",\"zerolinecolor\":\"white\",\"gridwidth\":2}},\"shapedefaults\":{\"line\":{\"color\":\"#2a3f5f\"}},\"annotationdefaults\":{\"arrowcolor\":\"#2a3f5f\",\"arrowhead\":0,\"arrowwidth\":1},\"geo\":{\"bgcolor\":\"white\",\"landcolor\":\"#E5ECF6\",\"subunitcolor\":\"white\",\"showland\":true,\"showlakes\":true,\"lakecolor\":\"white\"},\"title\":{\"x\":0.05},\"mapbox\":{\"style\":\"light\"}}},\"font\":{\"family\":\"DejaVu Serif\",\"size\":18,\"color\":\"RebeccaPurple\"},\"title\":{\"text\":\"User#0 x-acceleration during walking\"},\"xaxis\":{\"title\":{\"text\":\"time, sec\"}},\"yaxis\":{\"title\":{\"text\":\"Acceleration\"}},\"legend\":{\"title\":{\"text\":\"Legend Title\"}}},                        {\"responsive\": true}                    ).then(function(){\n",
              "                            \n",
              "var gd = document.getElementById('ae026e71-e3ee-4db7-80d1-a24b9042843d');\n",
              "var x = new MutationObserver(function (mutations, observer) {{\n",
              "        var display = window.getComputedStyle(gd).display;\n",
              "        if (!display || display === 'none') {{\n",
              "            console.log([gd, 'removed!']);\n",
              "            Plotly.purge(gd);\n",
              "            observer.disconnect();\n",
              "        }}\n",
              "}});\n",
              "\n",
              "// Listen for the removal of the full notebook cells\n",
              "var notebookContainer = gd.closest('#notebook-container');\n",
              "if (notebookContainer) {{\n",
              "    x.observe(notebookContainer, {childList: true});\n",
              "}}\n",
              "\n",
              "// Listen for the clearing of the current output cell\n",
              "var outputEl = gd.closest('.output');\n",
              "if (outputEl) {{\n",
              "    x.observe(outputEl, {childList: true});\n",
              "}}\n",
              "\n",
              "                        })                };                            </script>        </div>\n",
              "</body>\n",
              "</html>"
            ]
          },
          "metadata": {}
        }
      ]
    },
    {
      "cell_type": "markdown",
      "source": [
        "#### 3. Изменение частоты и использование 2NN для восстановления"
      ],
      "metadata": {
        "id": "TUlgxnJkw-1b"
      }
    },
    {
      "cell_type": "code",
      "source": [
        "!pip install geotorch -q\n",
        "\n",
        "from drive.MyDrive.metric_analysis.modules.classes_and_functions import *\n",
        "from drive.MyDrive.metric_analysis.modules.model_arch import *\n",
        "from drive.MyDrive.metric_analysis.modules.visualization import *"
      ],
      "metadata": {
        "colab": {
          "base_uri": "https://localhost:8080/"
        },
        "id": "gea1_1-TzZfC",
        "outputId": "1097cb4e-1d70-49e1-b91a-bc6b9b07b5ec"
      },
      "execution_count": 13,
      "outputs": [
        {
          "output_type": "stream",
          "name": "stdout",
          "text": [
            "\u001b[?25l     \u001b[90m━━━━━━━━━━━━━━━━━━━━━━━━━━━━━━━━━━━━━━━━\u001b[0m \u001b[32m0.0/54.8 KB\u001b[0m \u001b[31m?\u001b[0m eta \u001b[36m-:--:--\u001b[0m\r\u001b[2K     \u001b[90m━━━━━━━━━━━━━━━━━━━━━━━━━━━━━━━━━━━━━━━━\u001b[0m \u001b[32m54.8/54.8 KB\u001b[0m \u001b[31m2.4 MB/s\u001b[0m eta \u001b[36m0:00:00\u001b[0m\n",
            "\u001b[?25h"
          ]
        }
      ]
    },
    {
      "cell_type": "markdown",
      "source": [
        "Приближенно (да и из графика видно) считаем, что 1 шаг совершается за 1 секунду.\n",
        "\n",
        "Тогда 2 шага занимают 2 секунды. Именно такое время мы и будем восстанавливать"
      ],
      "metadata": {
        "id": "XpfnQ9Mfxb94"
      }
    },
    {
      "cell_type": "code",
      "source": [
        "period = 2 # 2 секунды мы даем на вход модели\n",
        "\n",
        "steps_in_time = period * freq # сколько моментов времени в периуде\n",
        "print(steps_in_time)"
      ],
      "metadata": {
        "colab": {
          "base_uri": "https://localhost:8080/"
        },
        "id": "t2rPedVQy80I",
        "outputId": "21b231c7-f082-4f68-ef94-b74706fa2d72"
      },
      "execution_count": 14,
      "outputs": [
        {
          "output_type": "stream",
          "name": "stdout",
          "text": [
            "100\n"
          ]
        }
      ]
    },
    {
      "cell_type": "code",
      "source": [
        "in_len = steps_in_time\n",
        "hid_dim = 3\n",
        "out_len = steps_in_time\n",
        "\n",
        "batch_size = 16\n",
        "lr = 1e-3\n",
        "\n",
        "device = torch.device('cuda:0') if torch.cuda.is_available() else torch.device('cpu')\n",
        "print(device)\n",
        "\n",
        "dataset = TimeSerie_1d_Dataset(in_len=in_len, \n",
        "                               out_len=out_len, \n",
        "                               s_noice=first_user_data['userAcceleration.x'], \n",
        "                               s_true=None)\n",
        "\n",
        "dataloader = DataLoader(dataset, batch_size=batch_size, shuffle=True)\n",
        "\n",
        "\n",
        "model = nn.Sequential(\n",
        "    bnn.BayesLinear(prior_mu=0.01, prior_sigma=0.1, in_features=in_len, out_features=hid_dim),\n",
        "    nn.ReLU(),\n",
        "    bnn.BayesLinear(prior_mu=0.01, prior_sigma=0.1, in_features=hid_dim, out_features=out_len),\n",
        ").to(device)\n",
        "\n",
        "optimizer = torch.optim.Adam(model.parameters(), lr=lr)\n",
        "criterion = nn.MSELoss()\n",
        "kl_criterion = bnn.BKLLoss(reduction='mean', last_layer_only=False)\n",
        "kl_weight = 0.01\n",
        "#scheduler = torch.optim.lr_scheduler.ReduceLROnPlateau(optimizer, mode='min', factor=0.5, patience=4, threshold=0.001, verbose=True)"
      ],
      "metadata": {
        "colab": {
          "base_uri": "https://localhost:8080/"
        },
        "id": "h0kOXbqEb4Dh",
        "outputId": "95f6433f-e771-4b4c-fc13-23adbacd7ae0"
      },
      "execution_count": 47,
      "outputs": [
        {
          "output_type": "stream",
          "name": "stdout",
          "text": [
            "cpu\n"
          ]
        }
      ]
    },
    {
      "cell_type": "code",
      "source": [
        "def common_criterion(*pars):\n",
        "    l1 = criterion(*pars)\n",
        "    l2 = kl_criterion(model) * 0.01\n",
        "    return l1 + l2"
      ],
      "metadata": {
        "id": "Ul9rBsjbdCqc"
      },
      "execution_count": 48,
      "outputs": []
    },
    {
      "cell_type": "code",
      "source": [
        "model, optimizer, losses = learning_loop(\n",
        "    model = model,\n",
        "    optimizer = optimizer,\n",
        "    loader = dataloader,\n",
        "    criterion = common_criterion,\n",
        "    epochs=20,\n",
        "    draw_every=10,\n",
        "    separate_show=False,\n",
        "    device=device\n",
        ")"
      ],
      "metadata": {
        "colab": {
          "base_uri": "https://localhost:8080/",
          "height": 449
        },
        "id": "Tt53naiVdATt",
        "outputId": "e79f661e-4ce5-4ab6-ae33-0723d9a4c66d"
      },
      "execution_count": 49,
      "outputs": [
        {
          "output_type": "display_data",
          "data": {
            "text/plain": [
              "<Figure size 864x432 with 1 Axes>"
            ],
            "image/png": "[encoded data removed]"
          },
          "metadata": {}
        }
      ]
    },
    {
      "cell_type": "code",
      "source": [
        "visualize_predictions_go(sec_times, first_user_data['userAcceleration.x'], model, dataset, batch_size, vis_time=10, device=device)"
      ],
      "metadata": {
        "colab": {
          "base_uri": "https://localhost:8080/",
          "height": 542
        },
        "id": "WYU1JNEJgbkE",
        "outputId": "c991263e-13a8-4bac-e400-2a42f82ac224"
      },
      "execution_count": 50,
      "outputs": [
        {
          "output_type": "display_data",
          "data": {
            "text/html": [
              "<html>\n",
              "<head><meta charset=\"utf-8\" /></head>\n",
              "<body>\n",
              "    <div>            <script src=\"https://cdnjs.cloudflare.com/ajax/libs/mathjax/2.7.5/MathJax.js?config=TeX-AMS-MML_SVG\"></script><script type=\"text/javascript\">if (window.MathJax && window.MathJax.Hub && window.MathJax.Hub.Config) {window.MathJax.Hub.Config({SVG: {font: \"STIX-Web\"}});}</script>                <script type=\"text/javascript\">window.PlotlyConfig = {MathJaxConfig: 'local'};</script>\n",
              "        <script src=\"https://cdn.plot.ly/plotly-2.18.2.min.js\"></script>                <div id=\"53e27881-5dd4-437d-810b-a05bed088f84\" class=\"plotly-graph-div\" style=\"height:525px; width:100%;\"></div>            <script type=\"text/javascript\">                                    window.PLOTLYENV=window.PLOTLYENV || {};                                    if (document.getElementById(\"53e27881-5dd4-437d-810b-a05bed088f84\")) {                    Plotly.newPlot(                        \"53e27881-5dd4-437d-810b-a05bed088f84\",                        [{\"marker\":{\"color\":\"red\"},\"mode\":\"lines\",\"name\":\"True serie\",\"x\":[0.0,0.02,0.04,0.06,0.08,0.1,0.12,0.14,0.16,0.18,0.2,0.22,0.24,0.26,0.28,0.3,0.32,0.34,0.36,0.38,0.4,0.42,0.44,0.46,0.48,0.5,0.52,0.54,0.56,0.58,0.6,0.62,0.64,0.66,0.68,0.7,0.72,0.74,0.76,0.78,0.8,0.82,0.84,0.86,0.88,0.9,0.92,0.94,0.96,0.98,1.0,1.02,1.04,1.06,1.08,1.1,1.12,1.14,1.16,1.18,1.2,1.22,1.24,1.26,1.28,1.3,1.32,1.34,1.36,1.38,1.4,1.42,1.44,1.46,1.48,1.5,1.52,1.54,1.56,1.58,1.6,1.62,1.64,1.66,1.68,1.7,1.72,1.74,1.76,1.78,1.8,1.82,1.84,1.86,1.88,1.9,1.92,1.94,1.96,1.98,2.0,2.02,2.04,2.06,2.08,2.1,2.12,2.14,2.16,2.18,2.2,2.22,2.24,2.26,2.28,2.3,2.32,2.34,2.36,2.38,2.4,2.42,2.44,2.46,2.48,2.5,2.52,2.54,2.56,2.58,2.6,2.62,2.64,2.66,2.68,2.7,2.72,2.74,2.76,2.78,2.8,2.82,2.84,2.86,2.88,2.9,2.92,2.94,2.96,2.98,3.0,3.02,3.04,3.06,3.08,3.1,3.12,3.14,3.16,3.18,3.2,3.22,3.24,3.26,3.28,3.3,3.32,3.34,3.36,3.38,3.4,3.42,3.44,3.46,3.48,3.5,3.52,3.54,3.56,3.58,3.6,3.62,3.64,3.66,3.68,3.7,3.72,3.74,3.76,3.78,3.8,3.82,3.84,3.86,3.88,3.9,3.92,3.94,3.96,3.98,4.0,4.02,4.04,4.06,4.08,4.1,4.12,4.14,4.16,4.18,4.2,4.22,4.24,4.26,4.28,4.3,4.32,4.34,4.36,4.38,4.4,4.42,4.44,4.46,4.48,4.5,4.52,4.54,4.56,4.58,4.6,4.62,4.64,4.66,4.68,4.7,4.72,4.74,4.76,4.78,4.8,4.82,4.84,4.86,4.88,4.9,4.92,4.94,4.96,4.98,5.0,5.02,5.04,5.06,5.08,5.1,5.12,5.14,5.16,5.18,5.2,5.22,5.24,5.26,5.28,5.3,5.32,5.34,5.36,5.38,5.4,5.42,5.44,5.46,5.48,5.5,5.52,5.54,5.56,5.58,5.6,5.62,5.64,5.66,5.68,5.7,5.72,5.74,5.76,5.78,5.8,5.82,5.84,5.86,5.88,5.9,5.92,5.94,5.96,5.98,6.0,6.02,6.04,6.06,6.08,6.1,6.12,6.14,6.16,6.18,6.2,6.22,6.24,6.26,6.28,6.3,6.32,6.34,6.36,6.38,6.4,6.42,6.44,6.46,6.48,6.5,6.52,6.54,6.56,6.58,6.6,6.62,6.64,6.66,6.68,6.7,6.72,6.74,6.76,6.78,6.8,6.82,6.84,6.86,6.88,6.9,6.92,6.94,6.96,6.98,7.0,7.02,7.04,7.06,7.08,7.1,7.12,7.14,7.16,7.18,7.2,7.22,7.24,7.26,7.28,7.3,7.32,7.34,7.36,7.38,7.4,7.42,7.44,7.46,7.48,7.5,7.52,7.54,7.56,7.58,7.6,7.62,7.64,7.66,7.68,7.7,7.72,7.74,7.76,7.78,7.8,7.82,7.84,7.86,7.88,7.9,7.92,7.94,7.96,7.98,8.0,8.02,8.04,8.06,8.08,8.1,8.12,8.14,8.16,8.18,8.2,8.22,8.24,8.26,8.28,8.3,8.32,8.34,8.36,8.38,8.4,8.42,8.44,8.46,8.48,8.5,8.52,8.54,8.56,8.58,8.6,8.62,8.64,8.66,8.68,8.7,8.72,8.74,8.76,8.78,8.8,8.82,8.84,8.86,8.88,8.9,8.92,8.94,8.96,8.98,9.0,9.02,9.04,9.06,9.08,9.1,9.12,9.14,9.16,9.18,9.2,9.22,9.24,9.26,9.28,9.3,9.32,9.34,9.36,9.38,9.4,9.42,9.44,9.46,9.48,9.5,9.52,9.54,9.56,9.58,9.6,9.62,9.64,9.66,9.68,9.7,9.72,9.74,9.76,9.78,9.8,9.82,9.84,9.86,9.88,9.9,9.92,9.94,9.96,9.98,10.0],\"y\":[0.0917019999999999,0.367412,0.172093,0.004957,-0.040292,-0.090778,-0.032102,-0.024607,-0.018565,0.004017,0.069387,0.12574,0.35366,0.387127,0.393543,0.294927,0.412166,0.478221,0.371314,0.2247489999999999,0.196671,-0.5812970000000001,-0.877634,-0.8917579999999999,-0.8388629999999999,-0.613757,-0.372562,0.01713,0.30948,0.139092,-0.063403,-0.262187,-0.2888409999999999,-0.272968,-0.308244,-0.356373,-0.439496,-0.310093,-0.207639,-0.02256,0.044562,0.2261449999999999,0.544142,0.589766,0.456272,0.274846,0.296194,-0.531093,-1.892837,-1.6956650000000002,-0.8925069999999999,-0.193701,-0.258008,-0.276,-0.678806,-0.5727979999999999,-0.1822339999999999,0.171452,0.335925,0.424846,-0.05652,-0.141165,-0.129428,-0.124931,-0.130304,-0.029389,0.11614,0.296682,0.534615,0.509204,0.376942,0.31442,0.401211,0.4841029999999999,0.316752,-0.012899,-0.067884,-0.236093,-0.5398069999999999,-0.875492,-0.960696,-0.865417,-0.398152,-0.15491,-0.057299,-0.170499,-0.225478,-0.253697,-0.237925,-0.11875,-0.2261929999999999,-0.308247,-0.391462,-0.190181,0.045988,0.207452,0.5256529999999999,0.38941,-0.280565,0.048222,0.311957,0.194441,-1.105855,-1.930131,-1.392273,-0.388159,-0.286701,-0.245205,-0.476722,-0.376487,-0.335004,-0.089816,0.477235,0.4860859999999999,0.237086,0.023773,-0.078555,-0.111831,-0.102877,-0.050317,0.011492,0.201194,0.465063,0.5457380000000001,0.426095,0.444525,0.4238,0.183668,0.072202,-0.0618909999999999,-0.382756,-0.5541520000000001,-0.880158,-0.926361,-0.604119,-0.414179,-0.167352,0.22996,0.030611,-0.23001,-0.2913989999999999,-0.312006,-0.274654,-0.338761,-0.380135,-0.401869,-0.341861,-0.0889529999999999,0.086437,0.134934,0.120986,0.081559,0.058752,0.231836,0.3080489999999999,-0.142552,-0.8902100000000001,-0.74975,-0.781472,-0.690964,-0.567606,-0.4667979999999999,-0.5519609999999999,-0.5198510000000001,-0.154613,-0.069147,0.23369,0.4758779999999999,0.2698239999999999,-0.056957,-0.063055,-0.007337,0.062048,0.066594,0.069854,0.261472,0.344882,0.509786,0.435196,0.406526,0.401314,0.386385,0.203968,-0.157348,-0.235391,-0.385789,-0.642312,-0.637049,-0.7625149999999999,-0.564447,-0.585108,-0.12372,0.0186789999999999,-0.155578,-0.210586,-0.249935,-0.267254,-0.23142,-0.302123,-0.413743,-0.389352,-0.191605,0.104803,0.135511,0.672672,0.407486,0.078973,-0.054012,-0.171876,-0.7640100000000001,-1.076715,-0.4270029999999999,-0.378158,-0.295319,-0.467754,-0.546353,-0.372449,-0.102094,-0.023957,0.319194,0.494354,0.320907,-0.076627,-0.120246,-0.10081,0.112953,0.112729,-0.010015,0.003232,0.125933,0.270529,0.3963,0.524135,0.5744630000000001,0.491659,0.380925,0.063229,-0.212248,-0.204393,-0.351982,-0.420539,-0.591225,-0.6815260000000001,-0.33623,-0.070785,-0.075815,-0.332071,-0.393025,-0.372068,-0.216215,-0.251157,-0.2944719999999999,-0.3885679999999999,-0.341502,-0.2305019999999999,0.036149,0.342415,0.643463,0.277492,-0.4709939999999999,-0.380113,0.031027,0.019408,-0.313523,-0.970746,-0.3069699999999999,-0.451808,-0.4053239999999999,-0.279225,-0.382898,-0.294912,-0.1373049999999999,-0.124541,-0.025498,0.294105,0.399686,0.134467,-0.112316,-0.244436,-0.189563,-0.108021,-0.04673,0.040638,0.1092099999999999,0.176353,0.401285,0.50888,0.526275,0.540197,0.2324909999999999,0.013203,-0.0858559999999999,-0.200408,-0.235034,-0.641176,-0.753943,-0.764642,-0.626965,-0.205213,-0.081552,0.009143,-0.192798,-0.301925,-0.381485,-0.412859,-0.469247,-0.5418430000000001,-0.365003,-0.247664,-0.069454,0.392409,0.663937,0.211704,0.036962,-0.000976,0.3095179999999999,0.187925,-1.753548,-1.164173,-0.453025,-0.372992,-0.225269,-0.463501,-0.513468,-0.258264,-0.032567,-0.0526049999999999,0.103498,0.268446,0.046786,-0.100673,-0.07219,-0.009615,-0.023628,-0.031961,-0.020116,0.032121,0.200389,0.255955,0.303352,0.335866,0.339159,0.344959,0.142274,-0.022947,-0.165325,-0.233284,-0.306696,-0.4829819999999999,-0.666586,-0.652386,-0.376176,0.024611,0.008621,-0.13808,-0.327582,-0.372413,-0.226372,-0.269301,-0.344068,-0.4946819999999999,-0.5051220000000001,-0.450827,-0.020216,0.1517099999999999,0.320937,0.403393,0.091056,0.032847,0.398242,0.3765719999999999,0.162819,-1.446541,-1.112826,-0.463752,-0.637046,-0.4313659999999999,-0.376093,-0.321684,-0.258089,0.174745,0.412793,0.506594,0.317176,0.1183109999999999,0.163665,0.241708,0.353364,0.221154,0.128047,0.026735,0.021928,0.032011,0.132955,0.488743,0.510339,0.575507,0.621841,0.63089,0.415434,0.001375,-0.046665,-0.416621,-0.4834859999999999,-0.54193,-0.58119,-0.402633,-0.2449219999999999,0.21098,0.197752,0.101997,-0.13582,-0.218561,-0.191815,-0.178169,-0.2606,-0.308197,-0.328366,-0.189806,-0.090286,0.129331,0.3276219999999999,0.507378,0.4438149999999999,0.467689,0.628783,0.7199409999999999,0.171975,-0.891749,-2.078475,-0.7127439999999999,-0.385049,-0.416318,-0.350331,-0.372776,-0.550041,-0.197542,-0.025019,0.16153,0.528655,0.57975,0.422941,0.269703,0.186848,0.003038,-0.129588,-0.1328089999999999,0.0169789999999999,0.161071,0.429,0.626046,0.57705,0.56598,0.47365,0.370377,0.195994,-0.159182,-0.235905,-0.325208,-0.4870609999999999,-0.6471640000000001,-0.689214,-0.5256,-0.187154,-2.4e-05,0.157753,0.06314,-0.026853,-0.034669,-0.106395,-0.208276,-0.36106,-0.422926,-0.343181,-0.046505,0.177283,0.53304,0.666805,-0.022642,-0.081196,0.2143449999999999,0.641863,0.626336,-0.156127,-2.013735,-1.990592,-0.468141,-0.222492,-0.165316,-0.301374,-0.5445979999999999,-0.370376,0.051092,0.2077429999999999,0.298009,0.611779,0.2362429999999999,0.130299,-0.00352,0.048683,0.08469],\"type\":\"scatter\"},{\"marker\":{\"color\":\"blue\"},\"mode\":\"lines\",\"name\":\"Recovered serie\",\"x\":[0.0,0.02,0.04,0.06,0.08,0.1,0.12,0.14,0.16,0.18,0.2,0.22,0.24,0.26,0.28,0.3,0.32,0.34,0.36,0.38,0.4,0.42,0.44,0.46,0.48,0.5,0.52,0.54,0.56,0.58,0.6,0.62,0.64,0.66,0.68,0.7,0.72,0.74,0.76,0.78,0.8,0.82,0.84,0.86,0.88,0.9,0.92,0.94,0.96,0.98,1.0,1.02,1.04,1.06,1.08,1.1,1.12,1.14,1.16,1.18,1.2,1.22,1.24,1.26,1.28,1.3,1.32,1.34,1.36,1.38,1.4,1.42,1.44,1.46,1.48,1.5,1.52,1.54,1.56,1.58,1.6,1.62,1.64,1.66,1.68,1.7,1.72,1.74,1.76,1.78,1.8,1.82,1.84,1.86,1.88,1.9,1.92,1.94,1.96,1.98,2.0,2.02,2.04,2.06,2.08,2.1,2.12,2.14,2.16,2.18,2.2,2.22,2.24,2.26,2.28,2.3,2.32,2.34,2.36,2.38,2.4,2.42,2.44,2.46,2.48,2.5,2.52,2.54,2.56,2.58,2.6,2.62,2.64,2.66,2.68,2.7,2.72,2.74,2.76,2.78,2.8,2.82,2.84,2.86,2.88,2.9,2.92,2.94,2.96,2.98,3.0,3.02,3.04,3.06,3.08,3.1,3.12,3.14,3.16,3.18,3.2,3.22,3.24,3.26,3.28,3.3,3.32,3.34,3.36,3.38,3.4,3.42,3.44,3.46,3.48,3.5,3.52,3.54,3.56,3.58,3.6,3.62,3.64,3.66,3.68,3.7,3.72,3.74,3.76,3.78,3.8,3.82,3.84,3.86,3.88,3.9,3.92,3.94,3.96,3.98,4.0,4.02,4.04,4.06,4.08,4.1,4.12,4.14,4.16,4.18,4.2,4.22,4.24,4.26,4.28,4.3,4.32,4.34,4.36,4.38,4.4,4.42,4.44,4.46,4.48,4.5,4.52,4.54,4.56,4.58,4.6,4.62,4.64,4.66,4.68,4.7,4.72,4.74,4.76,4.78,4.8,4.82,4.84,4.86,4.88,4.9,4.92,4.94,4.96,4.98,5.0,5.02,5.04,5.06,5.08,5.1,5.12,5.14,5.16,5.18,5.2,5.22,5.24,5.26,5.28,5.3,5.32,5.34,5.36,5.38,5.4,5.42,5.44,5.46,5.48,5.5,5.52,5.54,5.56,5.58,5.6,5.62,5.64,5.66,5.68,5.7,5.72,5.74,5.76,5.78,5.8,5.82,5.84,5.86,5.88,5.9,5.92,5.94,5.96,5.98,6.0,6.02,6.04,6.06,6.08,6.1,6.12,6.14,6.16,6.18,6.2,6.22,6.24,6.26,6.28,6.3,6.32,6.34,6.36,6.38,6.4,6.42,6.44,6.46,6.48,6.5,6.52,6.54,6.56,6.58,6.6,6.62,6.64,6.66,6.68,6.7,6.72,6.74,6.76,6.78,6.8,6.82,6.84,6.86,6.88,6.9,6.92,6.94,6.96,6.98,7.0,7.02,7.04,7.06,7.08,7.1,7.12,7.14,7.16,7.18,7.2,7.22,7.24,7.26,7.28,7.3,7.32,7.34,7.36,7.38,7.4,7.42,7.44,7.46,7.48,7.5,7.52,7.54,7.56,7.58,7.6,7.62,7.64,7.66,7.68,7.7,7.72,7.74,7.76,7.78,7.8,7.82,7.84,7.86,7.88,7.9,7.92,7.94,7.96,7.98,8.0,8.02,8.04,8.06,8.08,8.1,8.12,8.14,8.16,8.18,8.2,8.22,8.24,8.26,8.28,8.3,8.32,8.34,8.36,8.38,8.4,8.42,8.44,8.46,8.48,8.5,8.52,8.54,8.56,8.58,8.6,8.62,8.64,8.66,8.68,8.7,8.72,8.74,8.76,8.78,8.8,8.82,8.84,8.86,8.88,8.9,8.92,8.94,8.96,8.98,9.0,9.02,9.04,9.06,9.08,9.1,9.12,9.14,9.16,9.18,9.2,9.22,9.24,9.26,9.28,9.3,9.32,9.34,9.36,9.38,9.4,9.42,9.44,9.46,9.48,9.5,9.52,9.54,9.56,9.58,9.6,9.62,9.64,9.66,9.68,9.7,9.72,9.74,9.76,9.78,9.8,9.82,9.84,9.86,9.88,9.9,9.92,9.94,9.96,9.98,10.0],\"y\":[0.10939575731754303,0.31888866424560547,0.26999691128730774,0.1778605580329895,0.10424143075942993,-0.06601174175739288,-0.16476565599441528,-0.2132761925458908,-0.22499673068523407,-0.45795977115631104,-0.380182147026062,-0.2900831401348114,-0.21162761747837067,-0.026518672704696655,0.09824708104133606,0.15527862310409546,0.09886369109153748,0.016600608825683594,-0.02666252851486206,-0.1302730292081833,-0.15765619277954102,-0.12617766857147217,-0.3259219229221344,-0.22427457571029663,-0.15188874304294586,-0.08597490191459656,0.05650611221790314,0.0744563639163971,0.2152356505393982,0.19238713383674622,0.1980803906917572,0.12684470415115356,-0.03627455234527588,-0.19142046570777893,-0.27700352668762207,-0.37019863724708557,-0.37043195962905884,-0.39915311336517334,-0.29644590616226196,-0.1581229269504547,-0.04564642533659935,0.09642386436462402,0.1315215528011322,0.09091940522193909,0.21637237071990967,0.06578727066516876,0.006876245141029358,-0.18388350307941437,-0.28809401392936707,-0.20862843096256256,-0.2202472686767578,-0.17782579362392426,0.07156019657850266,0.07413896918296814,0.09224306046962738,0.13177290558815002,0.16547980904579163,0.243668794631958,0.08699902892112732,-0.010510414838790894,-0.2467222511768341,-0.25604093074798584,-0.3682279586791992,-0.38045018911361694,-0.3035474419593811,-0.1469232738018036,-0.08781030029058456,0.034996725618839264,0.058723464608192444,0.04705232381820679,0.11989179253578186,0.02606627345085144,0.11966687440872192,-0.09117630124092102,-0.2765488624572754,-0.3229182958602905,-0.2893253564834595,-0.18658795952796936,-0.13603925704956055,0.012890217825770378,0.14069929718971252,0.06784948706626892,0.2981390058994293,0.15547746419906616,0.058191508054733276,-0.009687691926956177,-0.2085418850183487,-0.272956907749176,-0.3000699281692505,-0.271048903465271,-0.35224199295043945,-0.2568405866622925,-0.10965918004512787,-0.040521468967199326,0.10953761637210846,0.1852644681930542,0.044299572706222534,0.1355893611907959,0.06860366463661194,-0.06837238371372223,-0.11023323982954025,-0.23639807105064392,-0.27497124671936035,-0.27945271134376526,-0.199700266122818,-0.1788220852613449,-0.18757399916648865,-0.08884679526090622,0.08539846539497375,0.30346620082855225,0.14808516204357147,0.18604888021945953,0.07074803113937378,0.08493345975875854,-0.024376824498176575,-0.3261518180370331,-0.4027444124221802,-0.2630983293056488,-0.2012205272912979,-0.14234690368175507,-0.18780957162380219,-0.08998643606901169,0.028859630227088928,0.16732026636600494,0.05645860731601715,0.16934064030647278,-0.059142857789993286,-0.08912288397550583,-0.2002016007900238,-0.15861769020557404,-0.28479814529418945,-0.17269662022590637,-0.19780221581459045,-0.1773335039615631,-0.10375816375017166,-0.023739591240882874,0.1795230656862259,0.28174394369125366,0.36250725388526917,0.23300035297870636,0.10715320706367493,-0.1511756181716919,-0.3191014230251312,-0.36134153604507446,-0.3079487085342407,-0.2456667125225067,-0.1841641664505005,-0.19867756962776184,-0.14399459958076477,-0.033618390560150146,-0.009979963302612305,0.0847766250371933,0.1718398779630661,0.065374955534935,0.0347132682800293,-0.18100261688232422,-0.20405125617980957,-0.3083347678184509,-0.25099432468414307,-0.1949496567249298,-0.22431357204914093,-0.07895775139331818,-0.049059346318244934,0.12255688011646271,0.3204137682914734,0.31562426686286926,0.1330874264240265,0.22864766418933868,0.034928128123283386,-0.22789128124713898,-0.18000859022140503,-0.15144135057926178,-0.3130226731300354,-0.1805305778980255,-0.15716591477394104,-0.14192357659339905,-0.08498325943946838,0.09913977980613708,0.12161985039710999,0.09846445918083191,0.12450715899467468,0.1106872409582138,-0.0952334925532341,-0.1683172732591629,-0.2748534381389618,-0.19814352691173553,-0.19634269177913666,-0.19589272141456604,-0.10835926234722137,-0.03982284665107727,0.03219647705554962,0.2936331629753113,0.30166348814964294,0.20576241612434387,0.20522452890872955,-0.0020631104707717896,-0.13391011953353882,-0.2790202498435974,-0.29262775182724,-0.2593614459037781,-0.17677530646324158,-0.23118099570274353,-0.24138176441192627,-0.05933947116136551,-0.03484192490577698,0.0813484787940979,0.017475992441177368,0.08341905474662781,0.058333441615104675,-0.21537178754806519,-0.18771770596504211,-0.228772833943367,-0.1433769315481186,-0.20769689977169037,-0.1998329758644104,-0.13151399791240692,-0.08929824829101562,0.045165762305259705,0.2566841244697571,0.11646980047225952,0.2008676677942276,0.07899554073810577,0.020678788423538208,-0.06386759877204895,-0.2634318768978119,-0.2785906493663788,-0.22956088185310364,-0.16197934746742249,-0.1858951300382614,-0.13495072722434998,-0.044822245836257935,0.018023639917373657,0.13177911937236786,0.035226479172706604,0.0075523704290390015,-0.06552928686141968,-0.1490067094564438,-0.12503941357135773,-0.2790974974632263,-0.21048946678638458,-0.19621777534484863,-0.19956175982952118,-0.14290833473205566,-0.034143999218940735,0.11061100661754608,0.2445477396249771,0.18186244368553162,0.1551327407360077,0.10537360608577728,-0.030129775404930115,-0.07881177961826324,-0.22630859911441803,-0.2652932107448578,-0.24372446537017822,-0.1720207780599594,-0.19661091268062592,-0.1610972285270691,-0.031698212027549744,0.07457992434501648,0.03947000205516815,0.050870493054389954,-0.002469971776008606,-0.04603429138660431,-0.16944700479507446,-0.29386457800865173,-0.1786743402481079,-0.1975931078195572,-0.19443516433238983,-0.18109937012195587,-0.12270781397819519,-0.010896697640419006,0.12488539516925812,0.10178598761558533,0.17291317880153656,0.028501182794570923,-0.003045976161956787,-0.10467423498630524,-0.23988163471221924,-0.21552927792072296,-0.23925898969173431,-0.21499277651309967,-0.17439019680023193,-0.15351428091526031,-0.07073821127414703,-0.00722147524356842,0.10484927892684937,0.053003132343292236,0.08778192102909088,-0.013251900672912598,-0.04706621170043945,-0.23727931082248688,-0.25038838386535645,-0.1671251803636551,-0.2582111358642578,-0.19467100501060486,-0.16834789514541626,-0.10596674680709839,0.10355304181575775,0.10442259907722473,0.1361485868692398,0.1596706062555313,0.24838148057460785,-0.057781338691711426,-0.1574774980545044,-0.21797870099544525,-0.16537591814994812,-0.2375417947769165,-0.26058074831962585,-0.2133381962776184,-0.16487081348896027,-0.10346891731023788,-0.00018402934074401855,0.08116847276687622,0.11144950985908508,0.12710845470428467,-0.009490787982940674,0.005562841892242432,-0.08243545889854431,-0.27881190180778503,-0.1753917932510376,-0.24150097370147705,-0.19302628934383392,-0.1783944070339203,-0.14456117153167725,0.06218889355659485,0.18503910303115845,0.15571650862693787,0.17323936522006989,0.004289612174034119,-0.010756492614746094,0.0055654048919677734,-0.19764094054698944,-0.30512315034866333,-0.13842478394508362,-0.19738957285881042,-0.15246999263763428,-0.1249164342880249,-0.11615931987762451,0.03777703642845154,0.05683550238609314,0.10516764223575592,-0.07108837366104126,-0.029978051781654358,-0.13697662949562073,-0.29057371616363525,-0.2764671742916107,-0.23169589042663574,-0.19465459883213043,-0.1567356437444687,-0.16538560390472412,-0.0715140551328659,0.04148900508880615,0.11547395586967468,0.19057607650756836,0.17406857013702393,0.11551395058631897,-0.05707482993602753,-0.1498001664876938,-0.15818655490875244,-0.2805957496166229,-0.25669822096824646,-0.23206369578838348,-0.19893206655979156,-0.2035875767469406,-0.03713633120059967,0.08601939678192139,0.022982314229011536,0.11099110543727875,0.056903764605522156,0.07504504919052124,-0.01114894449710846,-0.24061593413352966,-0.13796615600585938,-0.2181152105331421,-0.19818240404129028,-0.17619873583316803,-0.1333504468202591,-0.06608853489160538,-0.009728983044624329,0.19584351778030396,0.18770717084407806,0.17607265710830688,0.1285177320241928,0.0034140795469284058,-0.2301541417837143,-0.1614687740802765,-0.3121562600135803,-0.2253599911928177,-0.18188288807868958,-0.18253950774669647,-0.1995972990989685,-0.12925325334072113,-0.03838279843330383,0.08675810694694519,0.08598960936069489,0.10694783926010132,-0.010734081268310547,-0.005463108420372009,-0.1719285547733307,-0.19376884400844574,-0.15428489446640015,-0.13445717096328735,-0.19040629267692566,-0.15974271297454834,-0.17408940196037292,-0.013137176632881165,0.04763495922088623,0.18029406666755676,0.19720682501792908,0.2023668885231018,0.15311934053897858,-0.0005285739898681641,-0.06622405350208282,-0.1557140350341797,-0.2269836962223053,-0.23608574271202087,-0.21126282215118408,-0.20737887918949127,-0.145115464925766,-0.07543492317199707,0.11138391494750977,0.14423194527626038,0.21323242783546448,0.14438575506210327,0.24184618890285492,-0.015219122171401978,-0.01923908293247223,-0.09383057802915573,-0.1433074027299881,-0.17375507950782776,-0.14736120402812958,-0.09850531071424484,-0.021385610103607178,0.0638108104467392,0.16094550490379333,0.10445183515548706,0.22089867293834686,0.30131882429122925,0.12227685749530792,-0.06407974660396576,-0.14311771094799042,-0.32629722356796265,-0.2430705726146698,-0.20530250668525696,-0.16014589369297028,-0.17008021473884583,-0.16440579295158386,-0.06588470935821533,0.02241528034210205,0.09132423996925354,0.19569753110408783,0.21643222868442535,0.04988570511341095,0.08487862348556519,-0.095743827521801,-0.10150085389614105,-0.16664117574691772,-0.10270703583955765,-0.11973615735769272,-0.11600514501333237,0.09954434633255005,0.04057137668132782,0.336316853761673,0.3418245315551758,0.22858229279518127,0.25439125299453735,0.18616949021816254,-0.16572141647338867,-0.022791787981987,-0.2081657350063324,-0.26262593269348145,-0.18290509283542633,-0.1647280901670456,-0.10285288095474243,-0.10895167291164398,-0.11135179549455643,0.16215763986110687,0.343783974647522,0.3937910795211792,0.305536150932312,0.10004828870296478,-0.01986706256866455,-0.029597699642181396,-0.10713589191436768,-0.08118446916341782,-0.17333805561065674,-0.09774155169725418,-0.026192814111709595,-0.050522878766059875,0.13574621081352234,0.232145294547081,0.2997676730155945,0.18041783571243286,0.3556612730026245,0.254352331161499,-0.18499253690242767,-0.053255438804626465,-0.3210434913635254,-0.3352273106575012,-0.16789112985134125,-0.19330061972141266],\"type\":\"scatter\"}],                        {\"template\":{\"data\":{\"histogram2dcontour\":[{\"type\":\"histogram2dcontour\",\"colorbar\":{\"outlinewidth\":0,\"ticks\":\"\"},\"colorscale\":[[0.0,\"#0d0887\"],[0.1111111111111111,\"#46039f\"],[0.2222222222222222,\"#7201a8\"],[0.3333333333333333,\"#9c179e\"],[0.4444444444444444,\"#bd3786\"],[0.5555555555555556,\"#d8576b\"],[0.6666666666666666,\"#ed7953\"],[0.7777777777777778,\"#fb9f3a\"],[0.8888888888888888,\"#fdca26\"],[1.0,\"#f0f921\"]]}],\"choropleth\":[{\"type\":\"choropleth\",\"colorbar\":{\"outlinewidth\":0,\"ticks\":\"\"}}],\"histogram2d\":[{\"type\":\"histogram2d\",\"colorbar\":{\"outlinewidth\":0,\"ticks\":\"\"},\"colorscale\":[[0.0,\"#0d0887\"],[0.1111111111111111,\"#46039f\"],[0.2222222222222222,\"#7201a8\"],[0.3333333333333333,\"#9c179e\"],[0.4444444444444444,\"#bd3786\"],[0.5555555555555556,\"#d8576b\"],[0.6666666666666666,\"#ed7953\"],[0.7777777777777778,\"#fb9f3a\"],[0.8888888888888888,\"#fdca26\"],[1.0,\"#f0f921\"]]}],\"heatmap\":[{\"type\":\"heatmap\",\"colorbar\":{\"outlinewidth\":0,\"ticks\":\"\"},\"colorscale\":[[0.0,\"#0d0887\"],[0.1111111111111111,\"#46039f\"],[0.2222222222222222,\"#7201a8\"],[0.3333333333333333,\"#9c179e\"],[0.4444444444444444,\"#bd3786\"],[0.5555555555555556,\"#d8576b\"],[0.6666666666666666,\"#ed7953\"],[0.7777777777777778,\"#fb9f3a\"],[0.8888888888888888,\"#fdca26\"],[1.0,\"#f0f921\"]]}],\"heatmapgl\":[{\"type\":\"heatmapgl\",\"colorbar\":{\"outlinewidth\":0,\"ticks\":\"\"},\"colorscale\":[[0.0,\"#0d0887\"],[0.1111111111111111,\"#46039f\"],[0.2222222222222222,\"#7201a8\"],[0.3333333333333333,\"#9c179e\"],[0.4444444444444444,\"#bd3786\"],[0.5555555555555556,\"#d8576b\"],[0.6666666666666666,\"#ed7953\"],[0.7777777777777778,\"#fb9f3a\"],[0.8888888888888888,\"#fdca26\"],[1.0,\"#f0f921\"]]}],\"contourcarpet\":[{\"type\":\"contourcarpet\",\"colorbar\":{\"outlinewidth\":0,\"ticks\":\"\"}}],\"contour\":[{\"type\":\"contour\",\"colorbar\":{\"outlinewidth\":0,\"ticks\":\"\"},\"colorscale\":[[0.0,\"#0d0887\"],[0.1111111111111111,\"#46039f\"],[0.2222222222222222,\"#7201a8\"],[0.3333333333333333,\"#9c179e\"],[0.4444444444444444,\"#bd3786\"],[0.5555555555555556,\"#d8576b\"],[0.6666666666666666,\"#ed7953\"],[0.7777777777777778,\"#fb9f3a\"],[0.8888888888888888,\"#fdca26\"],[1.0,\"#f0f921\"]]}],\"surface\":[{\"type\":\"surface\",\"colorbar\":{\"outlinewidth\":0,\"ticks\":\"\"},\"colorscale\":[[0.0,\"#0d0887\"],[0.1111111111111111,\"#46039f\"],[0.2222222222222222,\"#7201a8\"],[0.3333333333333333,\"#9c179e\"],[0.4444444444444444,\"#bd3786\"],[0.5555555555555556,\"#d8576b\"],[0.6666666666666666,\"#ed7953\"],[0.7777777777777778,\"#fb9f3a\"],[0.8888888888888888,\"#fdca26\"],[1.0,\"#f0f921\"]]}],\"mesh3d\":[{\"type\":\"mesh3d\",\"colorbar\":{\"outlinewidth\":0,\"ticks\":\"\"}}],\"scatter\":[{\"fillpattern\":{\"fillmode\":\"overlay\",\"size\":10,\"solidity\":0.2},\"type\":\"scatter\"}],\"parcoords\":[{\"type\":\"parcoords\",\"line\":{\"colorbar\":{\"outlinewidth\":0,\"ticks\":\"\"}}}],\"scatterpolargl\":[{\"type\":\"scatterpolargl\",\"marker\":{\"colorbar\":{\"outlinewidth\":0,\"ticks\":\"\"}}}],\"bar\":[{\"error_x\":{\"color\":\"#2a3f5f\"},\"error_y\":{\"color\":\"#2a3f5f\"},\"marker\":{\"line\":{\"color\":\"#E5ECF6\",\"width\":0.5},\"pattern\":{\"fillmode\":\"overlay\",\"size\":10,\"solidity\":0.2}},\"type\":\"bar\"}],\"scattergeo\":[{\"type\":\"scattergeo\",\"marker\":{\"colorbar\":{\"outlinewidth\":0,\"ticks\":\"\"}}}],\"scatterpolar\":[{\"type\":\"scatterpolar\",\"marker\":{\"colorbar\":{\"outlinewidth\":0,\"ticks\":\"\"}}}],\"histogram\":[{\"marker\":{\"pattern\":{\"fillmode\":\"overlay\",\"size\":10,\"solidity\":0.2}},\"type\":\"histogram\"}],\"scattergl\":[{\"type\":\"scattergl\",\"marker\":{\"colorbar\":{\"outlinewidth\":0,\"ticks\":\"\"}}}],\"scatter3d\":[{\"type\":\"scatter3d\",\"line\":{\"colorbar\":{\"outlinewidth\":0,\"ticks\":\"\"}},\"marker\":{\"colorbar\":{\"outlinewidth\":0,\"ticks\":\"\"}}}],\"scattermapbox\":[{\"type\":\"scattermapbox\",\"marker\":{\"colorbar\":{\"outlinewidth\":0,\"ticks\":\"\"}}}],\"scatterternary\":[{\"type\":\"scatterternary\",\"marker\":{\"colorbar\":{\"outlinewidth\":0,\"ticks\":\"\"}}}],\"scattercarpet\":[{\"type\":\"scattercarpet\",\"marker\":{\"colorbar\":{\"outlinewidth\":0,\"ticks\":\"\"}}}],\"carpet\":[{\"aaxis\":{\"endlinecolor\":\"#2a3f5f\",\"gridcolor\":\"white\",\"linecolor\":\"white\",\"minorgridcolor\":\"white\",\"startlinecolor\":\"#2a3f5f\"},\"baxis\":{\"endlinecolor\":\"#2a3f5f\",\"gridcolor\":\"white\",\"linecolor\":\"white\",\"minorgridcolor\":\"white\",\"startlinecolor\":\"#2a3f5f\"},\"type\":\"carpet\"}],\"table\":[{\"cells\":{\"fill\":{\"color\":\"#EBF0F8\"},\"line\":{\"color\":\"white\"}},\"header\":{\"fill\":{\"color\":\"#C8D4E3\"},\"line\":{\"color\":\"white\"}},\"type\":\"table\"}],\"barpolar\":[{\"marker\":{\"line\":{\"color\":\"#E5ECF6\",\"width\":0.5},\"pattern\":{\"fillmode\":\"overlay\",\"size\":10,\"solidity\":0.2}},\"type\":\"barpolar\"}],\"pie\":[{\"automargin\":true,\"type\":\"pie\"}]},\"layout\":{\"autotypenumbers\":\"strict\",\"colorway\":[\"#636efa\",\"#EF553B\",\"#00cc96\",\"#ab63fa\",\"#FFA15A\",\"#19d3f3\",\"#FF6692\",\"#B6E880\",\"#FF97FF\",\"#FECB52\"],\"font\":{\"color\":\"#2a3f5f\"},\"hovermode\":\"closest\",\"hoverlabel\":{\"align\":\"left\"},\"paper_bgcolor\":\"white\",\"plot_bgcolor\":\"#E5ECF6\",\"polar\":{\"bgcolor\":\"#E5ECF6\",\"angularaxis\":{\"gridcolor\":\"white\",\"linecolor\":\"white\",\"ticks\":\"\"},\"radialaxis\":{\"gridcolor\":\"white\",\"linecolor\":\"white\",\"ticks\":\"\"}},\"ternary\":{\"bgcolor\":\"#E5ECF6\",\"aaxis\":{\"gridcolor\":\"white\",\"linecolor\":\"white\",\"ticks\":\"\"},\"baxis\":{\"gridcolor\":\"white\",\"linecolor\":\"white\",\"ticks\":\"\"},\"caxis\":{\"gridcolor\":\"white\",\"linecolor\":\"white\",\"ticks\":\"\"}},\"coloraxis\":{\"colorbar\":{\"outlinewidth\":0,\"ticks\":\"\"}},\"colorscale\":{\"sequential\":[[0.0,\"#0d0887\"],[0.1111111111111111,\"#46039f\"],[0.2222222222222222,\"#7201a8\"],[0.3333333333333333,\"#9c179e\"],[0.4444444444444444,\"#bd3786\"],[0.5555555555555556,\"#d8576b\"],[0.6666666666666666,\"#ed7953\"],[0.7777777777777778,\"#fb9f3a\"],[0.8888888888888888,\"#fdca26\"],[1.0,\"#f0f921\"]],\"sequentialminus\":[[0.0,\"#0d0887\"],[0.1111111111111111,\"#46039f\"],[0.2222222222222222,\"#7201a8\"],[0.3333333333333333,\"#9c179e\"],[0.4444444444444444,\"#bd3786\"],[0.5555555555555556,\"#d8576b\"],[0.6666666666666666,\"#ed7953\"],[0.7777777777777778,\"#fb9f3a\"],[0.8888888888888888,\"#fdca26\"],[1.0,\"#f0f921\"]],\"diverging\":[[0,\"#8e0152\"],[0.1,\"#c51b7d\"],[0.2,\"#de77ae\"],[0.3,\"#f1b6da\"],[0.4,\"#fde0ef\"],[0.5,\"#f7f7f7\"],[0.6,\"#e6f5d0\"],[0.7,\"#b8e186\"],[0.8,\"#7fbc41\"],[0.9,\"#4d9221\"],[1,\"#276419\"]]},\"xaxis\":{\"gridcolor\":\"white\",\"linecolor\":\"white\",\"ticks\":\"\",\"title\":{\"standoff\":15},\"zerolinecolor\":\"white\",\"automargin\":true,\"zerolinewidth\":2},\"yaxis\":{\"gridcolor\":\"white\",\"linecolor\":\"white\",\"ticks\":\"\",\"title\":{\"standoff\":15},\"zerolinecolor\":\"white\",\"automargin\":true,\"zerolinewidth\":2},\"scene\":{\"xaxis\":{\"backgroundcolor\":\"#E5ECF6\",\"gridcolor\":\"white\",\"linecolor\":\"white\",\"showbackground\":true,\"ticks\":\"\",\"zerolinecolor\":\"white\",\"gridwidth\":2},\"yaxis\":{\"backgroundcolor\":\"#E5ECF6\",\"gridcolor\":\"white\",\"linecolor\":\"white\",\"showbackground\":true,\"ticks\":\"\",\"zerolinecolor\":\"white\",\"gridwidth\":2},\"zaxis\":{\"backgroundcolor\":\"#E5ECF6\",\"gridcolor\":\"white\",\"linecolor\":\"white\",\"showbackground\":true,\"ticks\":\"\",\"zerolinecolor\":\"white\",\"gridwidth\":2}},\"shapedefaults\":{\"line\":{\"color\":\"#2a3f5f\"}},\"annotationdefaults\":{\"arrowcolor\":\"#2a3f5f\",\"arrowhead\":0,\"arrowwidth\":1},\"geo\":{\"bgcolor\":\"white\",\"landcolor\":\"#E5ECF6\",\"subunitcolor\":\"white\",\"showland\":true,\"showlakes\":true,\"lakecolor\":\"white\"},\"title\":{\"x\":0.05},\"mapbox\":{\"style\":\"light\"}}},\"font\":{\"family\":\"DejaVu Serif\",\"size\":18,\"color\":\"RebeccaPurple\"},\"title\":{\"text\":\"Recovery of time serie\"},\"xaxis\":{\"title\":{\"text\":\"time, sec\"}},\"legend\":{\"title\":{\"text\":\"Legend Title\"}}},                        {\"responsive\": true}                    ).then(function(){\n",
              "                            \n",
              "var gd = document.getElementById('53e27881-5dd4-437d-810b-a05bed088f84');\n",
              "var x = new MutationObserver(function (mutations, observer) {{\n",
              "        var display = window.getComputedStyle(gd).display;\n",
              "        if (!display || display === 'none') {{\n",
              "            console.log([gd, 'removed!']);\n",
              "            Plotly.purge(gd);\n",
              "            observer.disconnect();\n",
              "        }}\n",
              "}});\n",
              "\n",
              "// Listen for the removal of the full notebook cells\n",
              "var notebookContainer = gd.closest('#notebook-container');\n",
              "if (notebookContainer) {{\n",
              "    x.observe(notebookContainer, {childList: true});\n",
              "}}\n",
              "\n",
              "// Listen for the clearing of the current output cell\n",
              "var outputEl = gd.closest('.output');\n",
              "if (outputEl) {{\n",
              "    x.observe(outputEl, {childList: true});\n",
              "}}\n",
              "\n",
              "                        })                };                            </script>        </div>\n",
              "</body>\n",
              "</html>"
            ]
          },
          "metadata": {}
        }
      ]
    },
    {
      "cell_type": "code",
      "source": [
        "visualize_predictions_go(sec_times, first_user_data['userAcceleration.x'], model, dataset, batch_size, vis_time=10, device=device)"
      ],
      "metadata": {
        "colab": {
          "base_uri": "https://localhost:8080/",
          "height": 542
        },
        "id": "gb__MJLqdm3R",
        "outputId": "ce2c37bc-5b38-4339-b056-d1719ab067c3"
      },
      "execution_count": 46,
      "outputs": [
        {
          "output_type": "display_data",
          "data": {
            "text/html": [
              "<html>\n",
              "<head><meta charset=\"utf-8\" /></head>\n",
              "<body>\n",
              "    <div>            <script src=\"https://cdnjs.cloudflare.com/ajax/libs/mathjax/2.7.5/MathJax.js?config=TeX-AMS-MML_SVG\"></script><script type=\"text/javascript\">if (window.MathJax && window.MathJax.Hub && window.MathJax.Hub.Config) {window.MathJax.Hub.Config({SVG: {font: \"STIX-Web\"}});}</script>                <script type=\"text/javascript\">window.PlotlyConfig = {MathJaxConfig: 'local'};</script>\n",
              "        <script src=\"https://cdn.plot.ly/plotly-2.18.2.min.js\"></script>                <div id=\"5376a42d-debe-4172-960f-2a7d1f8db048\" class=\"plotly-graph-div\" style=\"height:525px; width:100%;\"></div>            <script type=\"text/javascript\">                                    window.PLOTLYENV=window.PLOTLYENV || {};                                    if (document.getElementById(\"5376a42d-debe-4172-960f-2a7d1f8db048\")) {                    Plotly.newPlot(                        \"5376a42d-debe-4172-960f-2a7d1f8db048\",                        [{\"marker\":{\"color\":\"red\"},\"mode\":\"lines\",\"name\":\"True serie\",\"x\":[0.0,0.02,0.04,0.06,0.08,0.1,0.12,0.14,0.16,0.18,0.2,0.22,0.24,0.26,0.28,0.3,0.32,0.34,0.36,0.38,0.4,0.42,0.44,0.46,0.48,0.5,0.52,0.54,0.56,0.58,0.6,0.62,0.64,0.66,0.68,0.7,0.72,0.74,0.76,0.78,0.8,0.82,0.84,0.86,0.88,0.9,0.92,0.94,0.96,0.98,1.0,1.02,1.04,1.06,1.08,1.1,1.12,1.14,1.16,1.18,1.2,1.22,1.24,1.26,1.28,1.3,1.32,1.34,1.36,1.38,1.4,1.42,1.44,1.46,1.48,1.5,1.52,1.54,1.56,1.58,1.6,1.62,1.64,1.66,1.68,1.7,1.72,1.74,1.76,1.78,1.8,1.82,1.84,1.86,1.88,1.9,1.92,1.94,1.96,1.98,2.0,2.02,2.04,2.06,2.08,2.1,2.12,2.14,2.16,2.18,2.2,2.22,2.24,2.26,2.28,2.3,2.32,2.34,2.36,2.38,2.4,2.42,2.44,2.46,2.48,2.5,2.52,2.54,2.56,2.58,2.6,2.62,2.64,2.66,2.68,2.7,2.72,2.74,2.76,2.78,2.8,2.82,2.84,2.86,2.88,2.9,2.92,2.94,2.96,2.98,3.0,3.02,3.04,3.06,3.08,3.1,3.12,3.14,3.16,3.18,3.2,3.22,3.24,3.26,3.28,3.3,3.32,3.34,3.36,3.38,3.4,3.42,3.44,3.46,3.48,3.5,3.52,3.54,3.56,3.58,3.6,3.62,3.64,3.66,3.68,3.7,3.72,3.74,3.76,3.78,3.8,3.82,3.84,3.86,3.88,3.9,3.92,3.94,3.96,3.98,4.0,4.02,4.04,4.06,4.08,4.1,4.12,4.14,4.16,4.18,4.2,4.22,4.24,4.26,4.28,4.3,4.32,4.34,4.36,4.38,4.4,4.42,4.44,4.46,4.48,4.5,4.52,4.54,4.56,4.58,4.6,4.62,4.64,4.66,4.68,4.7,4.72,4.74,4.76,4.78,4.8,4.82,4.84,4.86,4.88,4.9,4.92,4.94,4.96,4.98,5.0,5.02,5.04,5.06,5.08,5.1,5.12,5.14,5.16,5.18,5.2,5.22,5.24,5.26,5.28,5.3,5.32,5.34,5.36,5.38,5.4,5.42,5.44,5.46,5.48,5.5,5.52,5.54,5.56,5.58,5.6,5.62,5.64,5.66,5.68,5.7,5.72,5.74,5.76,5.78,5.8,5.82,5.84,5.86,5.88,5.9,5.92,5.94,5.96,5.98,6.0,6.02,6.04,6.06,6.08,6.1,6.12,6.14,6.16,6.18,6.2,6.22,6.24,6.26,6.28,6.3,6.32,6.34,6.36,6.38,6.4,6.42,6.44,6.46,6.48,6.5,6.52,6.54,6.56,6.58,6.6,6.62,6.64,6.66,6.68,6.7,6.72,6.74,6.76,6.78,6.8,6.82,6.84,6.86,6.88,6.9,6.92,6.94,6.96,6.98,7.0,7.02,7.04,7.06,7.08,7.1,7.12,7.14,7.16,7.18,7.2,7.22,7.24,7.26,7.28,7.3,7.32,7.34,7.36,7.38,7.4,7.42,7.44,7.46,7.48,7.5,7.52,7.54,7.56,7.58,7.6,7.62,7.64,7.66,7.68,7.7,7.72,7.74,7.76,7.78,7.8,7.82,7.84,7.86,7.88,7.9,7.92,7.94,7.96,7.98,8.0,8.02,8.04,8.06,8.08,8.1,8.12,8.14,8.16,8.18,8.2,8.22,8.24,8.26,8.28,8.3,8.32,8.34,8.36,8.38,8.4,8.42,8.44,8.46,8.48,8.5,8.52,8.54,8.56,8.58,8.6,8.62,8.64,8.66,8.68,8.7,8.72,8.74,8.76,8.78,8.8,8.82,8.84,8.86,8.88,8.9,8.92,8.94,8.96,8.98,9.0,9.02,9.04,9.06,9.08,9.1,9.12,9.14,9.16,9.18,9.2,9.22,9.24,9.26,9.28,9.3,9.32,9.34,9.36,9.38,9.4,9.42,9.44,9.46,9.48,9.5,9.52,9.54,9.56,9.58,9.6,9.62,9.64,9.66,9.68,9.7,9.72,9.74,9.76,9.78,9.8,9.82,9.84,9.86,9.88,9.9,9.92,9.94,9.96,9.98,10.0],\"y\":[0.0917019999999999,0.367412,0.172093,0.004957,-0.040292,-0.090778,-0.032102,-0.024607,-0.018565,0.004017,0.069387,0.12574,0.35366,0.387127,0.393543,0.294927,0.412166,0.478221,0.371314,0.2247489999999999,0.196671,-0.5812970000000001,-0.877634,-0.8917579999999999,-0.8388629999999999,-0.613757,-0.372562,0.01713,0.30948,0.139092,-0.063403,-0.262187,-0.2888409999999999,-0.272968,-0.308244,-0.356373,-0.439496,-0.310093,-0.207639,-0.02256,0.044562,0.2261449999999999,0.544142,0.589766,0.456272,0.274846,0.296194,-0.531093,-1.892837,-1.6956650000000002,-0.8925069999999999,-0.193701,-0.258008,-0.276,-0.678806,-0.5727979999999999,-0.1822339999999999,0.171452,0.335925,0.424846,-0.05652,-0.141165,-0.129428,-0.124931,-0.130304,-0.029389,0.11614,0.296682,0.534615,0.509204,0.376942,0.31442,0.401211,0.4841029999999999,0.316752,-0.012899,-0.067884,-0.236093,-0.5398069999999999,-0.875492,-0.960696,-0.865417,-0.398152,-0.15491,-0.057299,-0.170499,-0.225478,-0.253697,-0.237925,-0.11875,-0.2261929999999999,-0.308247,-0.391462,-0.190181,0.045988,0.207452,0.5256529999999999,0.38941,-0.280565,0.048222,0.311957,0.194441,-1.105855,-1.930131,-1.392273,-0.388159,-0.286701,-0.245205,-0.476722,-0.376487,-0.335004,-0.089816,0.477235,0.4860859999999999,0.237086,0.023773,-0.078555,-0.111831,-0.102877,-0.050317,0.011492,0.201194,0.465063,0.5457380000000001,0.426095,0.444525,0.4238,0.183668,0.072202,-0.0618909999999999,-0.382756,-0.5541520000000001,-0.880158,-0.926361,-0.604119,-0.414179,-0.167352,0.22996,0.030611,-0.23001,-0.2913989999999999,-0.312006,-0.274654,-0.338761,-0.380135,-0.401869,-0.341861,-0.0889529999999999,0.086437,0.134934,0.120986,0.081559,0.058752,0.231836,0.3080489999999999,-0.142552,-0.8902100000000001,-0.74975,-0.781472,-0.690964,-0.567606,-0.4667979999999999,-0.5519609999999999,-0.5198510000000001,-0.154613,-0.069147,0.23369,0.4758779999999999,0.2698239999999999,-0.056957,-0.063055,-0.007337,0.062048,0.066594,0.069854,0.261472,0.344882,0.509786,0.435196,0.406526,0.401314,0.386385,0.203968,-0.157348,-0.235391,-0.385789,-0.642312,-0.637049,-0.7625149999999999,-0.564447,-0.585108,-0.12372,0.0186789999999999,-0.155578,-0.210586,-0.249935,-0.267254,-0.23142,-0.302123,-0.413743,-0.389352,-0.191605,0.104803,0.135511,0.672672,0.407486,0.078973,-0.054012,-0.171876,-0.7640100000000001,-1.076715,-0.4270029999999999,-0.378158,-0.295319,-0.467754,-0.546353,-0.372449,-0.102094,-0.023957,0.319194,0.494354,0.320907,-0.076627,-0.120246,-0.10081,0.112953,0.112729,-0.010015,0.003232,0.125933,0.270529,0.3963,0.524135,0.5744630000000001,0.491659,0.380925,0.063229,-0.212248,-0.204393,-0.351982,-0.420539,-0.591225,-0.6815260000000001,-0.33623,-0.070785,-0.075815,-0.332071,-0.393025,-0.372068,-0.216215,-0.251157,-0.2944719999999999,-0.3885679999999999,-0.341502,-0.2305019999999999,0.036149,0.342415,0.643463,0.277492,-0.4709939999999999,-0.380113,0.031027,0.019408,-0.313523,-0.970746,-0.3069699999999999,-0.451808,-0.4053239999999999,-0.279225,-0.382898,-0.294912,-0.1373049999999999,-0.124541,-0.025498,0.294105,0.399686,0.134467,-0.112316,-0.244436,-0.189563,-0.108021,-0.04673,0.040638,0.1092099999999999,0.176353,0.401285,0.50888,0.526275,0.540197,0.2324909999999999,0.013203,-0.0858559999999999,-0.200408,-0.235034,-0.641176,-0.753943,-0.764642,-0.626965,-0.205213,-0.081552,0.009143,-0.192798,-0.301925,-0.381485,-0.412859,-0.469247,-0.5418430000000001,-0.365003,-0.247664,-0.069454,0.392409,0.663937,0.211704,0.036962,-0.000976,0.3095179999999999,0.187925,-1.753548,-1.164173,-0.453025,-0.372992,-0.225269,-0.463501,-0.513468,-0.258264,-0.032567,-0.0526049999999999,0.103498,0.268446,0.046786,-0.100673,-0.07219,-0.009615,-0.023628,-0.031961,-0.020116,0.032121,0.200389,0.255955,0.303352,0.335866,0.339159,0.344959,0.142274,-0.022947,-0.165325,-0.233284,-0.306696,-0.4829819999999999,-0.666586,-0.652386,-0.376176,0.024611,0.008621,-0.13808,-0.327582,-0.372413,-0.226372,-0.269301,-0.344068,-0.4946819999999999,-0.5051220000000001,-0.450827,-0.020216,0.1517099999999999,0.320937,0.403393,0.091056,0.032847,0.398242,0.3765719999999999,0.162819,-1.446541,-1.112826,-0.463752,-0.637046,-0.4313659999999999,-0.376093,-0.321684,-0.258089,0.174745,0.412793,0.506594,0.317176,0.1183109999999999,0.163665,0.241708,0.353364,0.221154,0.128047,0.026735,0.021928,0.032011,0.132955,0.488743,0.510339,0.575507,0.621841,0.63089,0.415434,0.001375,-0.046665,-0.416621,-0.4834859999999999,-0.54193,-0.58119,-0.402633,-0.2449219999999999,0.21098,0.197752,0.101997,-0.13582,-0.218561,-0.191815,-0.178169,-0.2606,-0.308197,-0.328366,-0.189806,-0.090286,0.129331,0.3276219999999999,0.507378,0.4438149999999999,0.467689,0.628783,0.7199409999999999,0.171975,-0.891749,-2.078475,-0.7127439999999999,-0.385049,-0.416318,-0.350331,-0.372776,-0.550041,-0.197542,-0.025019,0.16153,0.528655,0.57975,0.422941,0.269703,0.186848,0.003038,-0.129588,-0.1328089999999999,0.0169789999999999,0.161071,0.429,0.626046,0.57705,0.56598,0.47365,0.370377,0.195994,-0.159182,-0.235905,-0.325208,-0.4870609999999999,-0.6471640000000001,-0.689214,-0.5256,-0.187154,-2.4e-05,0.157753,0.06314,-0.026853,-0.034669,-0.106395,-0.208276,-0.36106,-0.422926,-0.343181,-0.046505,0.177283,0.53304,0.666805,-0.022642,-0.081196,0.2143449999999999,0.641863,0.626336,-0.156127,-2.013735,-1.990592,-0.468141,-0.222492,-0.165316,-0.301374,-0.5445979999999999,-0.370376,0.051092,0.2077429999999999,0.298009,0.611779,0.2362429999999999,0.130299,-0.00352,0.048683,0.08469],\"type\":\"scatter\"},{\"marker\":{\"color\":\"blue\"},\"mode\":\"lines\",\"name\":\"Recovered serie\",\"x\":[0.0,0.02,0.04,0.06,0.08,0.1,0.12,0.14,0.16,0.18,0.2,0.22,0.24,0.26,0.28,0.3,0.32,0.34,0.36,0.38,0.4,0.42,0.44,0.46,0.48,0.5,0.52,0.54,0.56,0.58,0.6,0.62,0.64,0.66,0.68,0.7,0.72,0.74,0.76,0.78,0.8,0.82,0.84,0.86,0.88,0.9,0.92,0.94,0.96,0.98,1.0,1.02,1.04,1.06,1.08,1.1,1.12,1.14,1.16,1.18,1.2,1.22,1.24,1.26,1.28,1.3,1.32,1.34,1.36,1.38,1.4,1.42,1.44,1.46,1.48,1.5,1.52,1.54,1.56,1.58,1.6,1.62,1.64,1.66,1.68,1.7,1.72,1.74,1.76,1.78,1.8,1.82,1.84,1.86,1.88,1.9,1.92,1.94,1.96,1.98,2.0,2.02,2.04,2.06,2.08,2.1,2.12,2.14,2.16,2.18,2.2,2.22,2.24,2.26,2.28,2.3,2.32,2.34,2.36,2.38,2.4,2.42,2.44,2.46,2.48,2.5,2.52,2.54,2.56,2.58,2.6,2.62,2.64,2.66,2.68,2.7,2.72,2.74,2.76,2.78,2.8,2.82,2.84,2.86,2.88,2.9,2.92,2.94,2.96,2.98,3.0,3.02,3.04,3.06,3.08,3.1,3.12,3.14,3.16,3.18,3.2,3.22,3.24,3.26,3.28,3.3,3.32,3.34,3.36,3.38,3.4,3.42,3.44,3.46,3.48,3.5,3.52,3.54,3.56,3.58,3.6,3.62,3.64,3.66,3.68,3.7,3.72,3.74,3.76,3.78,3.8,3.82,3.84,3.86,3.88,3.9,3.92,3.94,3.96,3.98,4.0,4.02,4.04,4.06,4.08,4.1,4.12,4.14,4.16,4.18,4.2,4.22,4.24,4.26,4.28,4.3,4.32,4.34,4.36,4.38,4.4,4.42,4.44,4.46,4.48,4.5,4.52,4.54,4.56,4.58,4.6,4.62,4.64,4.66,4.68,4.7,4.72,4.74,4.76,4.78,4.8,4.82,4.84,4.86,4.88,4.9,4.92,4.94,4.96,4.98,5.0,5.02,5.04,5.06,5.08,5.1,5.12,5.14,5.16,5.18,5.2,5.22,5.24,5.26,5.28,5.3,5.32,5.34,5.36,5.38,5.4,5.42,5.44,5.46,5.48,5.5,5.52,5.54,5.56,5.58,5.6,5.62,5.64,5.66,5.68,5.7,5.72,5.74,5.76,5.78,5.8,5.82,5.84,5.86,5.88,5.9,5.92,5.94,5.96,5.98,6.0,6.02,6.04,6.06,6.08,6.1,6.12,6.14,6.16,6.18,6.2,6.22,6.24,6.26,6.28,6.3,6.32,6.34,6.36,6.38,6.4,6.42,6.44,6.46,6.48,6.5,6.52,6.54,6.56,6.58,6.6,6.62,6.64,6.66,6.68,6.7,6.72,6.74,6.76,6.78,6.8,6.82,6.84,6.86,6.88,6.9,6.92,6.94,6.96,6.98,7.0,7.02,7.04,7.06,7.08,7.1,7.12,7.14,7.16,7.18,7.2,7.22,7.24,7.26,7.28,7.3,7.32,7.34,7.36,7.38,7.4,7.42,7.44,7.46,7.48,7.5,7.52,7.54,7.56,7.58,7.6,7.62,7.64,7.66,7.68,7.7,7.72,7.74,7.76,7.78,7.8,7.82,7.84,7.86,7.88,7.9,7.92,7.94,7.96,7.98,8.0,8.02,8.04,8.06,8.08,8.1,8.12,8.14,8.16,8.18,8.2,8.22,8.24,8.26,8.28,8.3,8.32,8.34,8.36,8.38,8.4,8.42,8.44,8.46,8.48,8.5,8.52,8.54,8.56,8.58,8.6,8.62,8.64,8.66,8.68,8.7,8.72,8.74,8.76,8.78,8.8,8.82,8.84,8.86,8.88,8.9,8.92,8.94,8.96,8.98,9.0,9.02,9.04,9.06,9.08,9.1,9.12,9.14,9.16,9.18,9.2,9.22,9.24,9.26,9.28,9.3,9.32,9.34,9.36,9.38,9.4,9.42,9.44,9.46,9.48,9.5,9.52,9.54,9.56,9.58,9.6,9.62,9.64,9.66,9.68,9.7,9.72,9.74,9.76,9.78,9.8,9.82,9.84,9.86,9.88,9.9,9.92,9.94,9.96,9.98,10.0],\"y\":[-0.004734545946121216,0.05184641480445862,0.12125635147094727,0.19664427638053894,0.1924952268600464,0.08546429127454758,0.014134004712104797,-0.07363532483577728,-0.2554815709590912,-0.4393702447414398,-0.4772813022136688,-0.3666214048862457,-0.28424108028411865,-0.15111464262008667,-0.04397878050804138,0.13405412435531616,0.09398680925369263,0.2454187572002411,0.23801812529563904,0.12660089135169983,0.0059050023555755615,-0.159013032913208,-0.26151421666145325,-0.28332194685935974,-0.3222108483314514,-0.21575894951820374,-0.1591106802225113,0.005216687917709351,0.1750490963459015,0.24959222972393036,0.1915069818496704,0.1979587823152542,0.08023975789546967,-0.08039921522140503,-0.21234573423862457,-0.22902163863182068,-0.34766459465026855,-0.46777892112731934,-0.44206053018569946,-0.26856425404548645,-0.16481922566890717,-0.0387820303440094,0.108785480260849,0.2229190319776535,0.2425614893436432,0.182599738240242,0.05237919092178345,-0.029521197080612183,-0.17584070563316345,-0.19891510903835297,-0.28728893399238586,-0.33429503440856934,-0.19119030237197876,-0.07659155130386353,0.015217393636703491,0.17182502150535583,0.2438172549009323,0.2619984745979309,0.16260653734207153,0.16084057092666626,-0.10347943007946014,-0.20705053210258484,-0.3606802225112915,-0.38800352811813354,-0.38701361417770386,-0.4165056645870209,-0.262071430683136,-0.10992887616157532,-0.01129835844039917,0.17464599013328552,0.25317439436912537,0.2266453057527542,0.11907254159450531,0.039531320333480835,-0.13030797243118286,-0.21948345005512238,-0.24003417789936066,-0.2867869436740875,-0.26380085945129395,-0.2642507553100586,-0.16622334718704224,0.08047011494636536,0.16496239602565765,0.208488330245018,0.1900947391986847,0.1921727955341339,0.058748215436935425,-0.16267205774784088,-0.1877303421497345,-0.34969890117645264,-0.39455288648605347,-0.4075307846069336,-0.3235682547092438,-0.2754497230052948,-0.041383057832717896,0.0642213225364685,0.18730884790420532,0.202035591006279,0.25127124786376953,0.09870891273021698,0.11853983998298645,-0.16533628106117249,-0.2617477774620056,-0.4588193893432617,-0.4890953302383423,-0.4863381087779999,-0.3615822196006775,-0.06629350036382675,0.08629795163869858,0.14483344554901123,0.14840266108512878,0.08494479954242706,0.11885152757167816,-0.04873131960630417,-0.06648257374763489,-0.3098336160182953,-0.2998827397823334,-0.532528817653656,-0.5260817408561707,-0.46453407406806946,-0.17260205745697021,-0.04120559245347977,0.04813090339303017,0.10039278119802475,0.08582815527915955,0.11107111722230911,0.11705449968576431,-0.014247924089431763,-0.16945728659629822,-0.4427938759326935,-0.2791528105735779,-0.3871471583843231,-0.44588637351989746,-0.25010472536087036,-0.16756346821784973,-0.06754197180271149,0.10280321538448334,0.09790673106908798,0.059966348111629486,0.11018477380275726,0.1574399173259735,-0.03344447910785675,-0.26983994245529175,-0.4919280707836151,-0.3740459084510803,-0.5207983255386353,-0.3176727890968323,-0.31575319170951843,-0.0434512197971344,0.05712154880166054,0.09060154855251312,0.13139452040195465,0.08651680499315262,0.11686310172080994,-0.006857290863990784,-0.11601961404085159,-0.2134179174900055,-0.33757373690605164,-0.44334474205970764,-0.5323778390884399,-0.3849054276943207,-0.13771966099739075,-0.16221801936626434,0.044843778014183044,0.11423096060752869,0.08285406231880188,0.09915491938591003,0.07847727090120316,0.01904604211449623,-0.0075180381536483765,-0.37952691316604614,-0.28607481718063354,-0.32472217082977295,-0.37631598114967346,-0.2112298160791397,-0.1766558289527893,0.027363330125808716,0.10292298346757889,0.08368554711341858,0.08773647248744965,0.0540492907166481,0.03544625639915466,0.0020104721188545227,-0.18471407890319824,-0.3761053681373596,-0.5315039157867432,-0.23558416962623596,-0.3863804340362549,-0.2585788667201996,-0.042628899216651917,0.025169502943754196,0.15511639416217804,0.08754970133304596,0.12253456562757492,0.12380654364824295,0.1166035532951355,-0.2370486557483673,-0.2246626913547516,-0.40155017375946045,-0.5991464257240295,-0.40604841709136963,-0.2185114026069641,-0.12241002917289734,0.035252247005701065,0.12552045285701752,0.12042472511529922,0.14868643879890442,0.05245620012283325,0.13786467909812927,0.0007342174649238586,-0.2622291147708893,-0.44451427459716797,-0.49840086698532104,-0.40296557545661926,-0.3782045245170593,-0.13725417852401733,-0.07483717799186707,0.08218959718942642,0.10299479216337204,0.07816682755947113,0.09240460395812988,0.08584664016962051,-0.04054241627454758,-0.2785935401916504,-0.13488313555717468,-0.3530784845352173,-0.4409211277961731,-0.3595918118953705,-0.34015604853630066,-0.05651039630174637,0.10179679840803146,0.0774044319987297,0.08030960708856583,0.1014917865395546,0.1288902461528778,0.01277901977300644,-0.050639018416404724,-0.1152472123503685,-0.30297040939331055,-0.3287760317325592,-0.32161784172058105,-0.3089926838874817,-0.3237351179122925,0.03231316804885864,0.09615635871887207,0.11801323294639587,0.08331290632486343,0.10841414332389832,0.05684961751103401,-0.123478963971138,-0.21428626775741577,-0.2828119695186615,-0.28571152687072754,-0.3891216516494751,-0.3853841722011566,-0.23155058920383453,-0.112763911485672,0.08718989789485931,0.12554818391799927,0.1132512018084526,0.13532841205596924,0.027245286852121353,0.017430849373340607,-0.11769605427980423,-0.2995406985282898,-0.25731712579727173,-0.3561004102230072,-0.3045285940170288,-0.22750648856163025,-0.13063262403011322,0.16019991040229797,0.0902130976319313,0.12172994017601013,0.1190505102276802,0.16321668028831482,0.04376913607120514,-0.0156935453414917,-0.13430850207805634,-0.33984947204589844,-0.3206004202365875,-0.3864459991455078,-0.23035448789596558,-0.1754353940486908,-0.0007997602224349976,0.0017830729484558105,0.09082461148500443,0.09176961332559586,0.09913511574268341,-0.013280399143695831,0.0408942773938179,-0.25702881813049316,-0.20317550003528595,-0.33766791224479675,-0.18699471652507782,-0.3296419382095337,-0.2335260510444641,-0.04970706254243851,0.025572672486305237,0.14187926054000854,0.10683366656303406,0.053966641426086426,0.12453703582286835,0.04310941696166992,0.01741757243871689,-0.14361163973808289,-0.31758227944374084,-0.2671092450618744,-0.3673630654811859,-0.2596258521080017,-0.2946877181529999,-0.07063726335763931,0.11980307847261429,0.10419778525829315,0.14814040064811707,0.10892010480165482,-0.03971842676401138,-0.042122840881347656,-0.06287065893411636,-0.2738099694252014,-0.4302930235862732,-0.4364567995071411,-0.2856599688529968,-0.15290045738220215,-0.04945304989814758,-0.02412554621696472,0.0877365842461586,0.11900904774665833,0.0376092903316021,0.15783196687698364,0.04904492199420929,-0.13350868225097656,-0.1541927605867386,-0.2701713740825653,-0.38215765357017517,-0.2756585478782654,-0.1896270513534546,-0.09616393595933914,-0.03769851475954056,0.09858739376068115,0.09112776070833206,0.08781462907791138,0.03885475918650627,-0.02877088636159897,-0.07074728608131409,-0.23271794617176056,-0.32364627718925476,-0.326596200466156,-0.2565259337425232,-0.2375972867012024,-0.2255491316318512,-0.10272437334060669,0.09590665251016617,0.10554449260234833,0.056935377418994904,0.12041811645030975,0.08337768912315369,0.0037616416811943054,-0.06328253448009491,-0.11456063389778137,-0.30865952372550964,-0.3200203776359558,-0.29219624400138855,-0.22366169095039368,-0.21045006811618805,0.0010094046592712402,0.07793556153774261,0.09465408325195312,0.04135359078645706,0.07241561263799667,-0.014896862208843231,-0.024335473775863647,-0.15904611349105835,-0.23811915516853333,-0.4270692467689514,-0.39073455333709717,-0.32295554876327515,-0.3158116936683655,-0.08967112004756927,0.06263195723295212,0.08502111583948135,0.05262710899114609,0.12715363502502441,0.17363667488098145,-0.00807993859052658,-0.20802751183509827,-0.316362202167511,-0.36255425214767456,-0.2979625165462494,-0.3241763114929199,-0.29180440306663513,-0.1911410689353943,0.07028275728225708,0.10403367877006531,0.14852292835712433,0.08218169212341309,0.10748826712369919,0.05989103019237518,-0.012775689363479614,-0.11684317141771317,-0.2911061942577362,-0.2725868821144104,-0.3660198450088501,-0.31056320667266846,-0.10431243479251862,-0.13349896669387817,0.03237210959196091,0.060445792973041534,0.11547420918941498,0.15633675456047058,0.12573842704296112,0.11717104911804199,-0.07328727096319199,0.009084686636924744,-0.20527738332748413,-0.32431989908218384,-0.34596967697143555,-0.314148485660553,-0.27826476097106934,-0.15523789823055267,-0.03525558114051819,0.05308268219232559,0.0795748233795166,0.17248645424842834,0.16443273425102234,0.1008765697479248,-0.06249373406171799,-0.13167384266853333,-0.16794025897979736,-0.25471729040145874,-0.33584627509117126,-0.3259228467941284,-0.18970802426338196,-0.24779431521892548,-0.061004944145679474,0.12938514351844788,0.11227543652057648,0.1346515715122223,0.12950199842453003,0.12151162326335907,-0.020789913833141327,-0.05467218905687332,-0.12404783815145493,-0.3341461420059204,-0.3451123833656311,-0.29359105229377747,-0.31377509236335754,-0.19581949710845947,0.025456301867961884,0.14310581982135773,0.14118829369544983,0.17737814784049988,0.16678035259246826,0.17693479359149933,-0.011471383273601532,-0.05244254320859909,-0.2554904818534851,-0.3285081386566162,-0.3511245846748352,-0.13246914744377136,-0.113461934030056,-0.06724634021520615,0.012490957975387573,0.13671660423278809,0.18137799203395844,0.15800166130065918,0.15149860084056854,0.11694173514842987,0.03356198966503143,-0.06463740766048431,-0.33925309777259827,-0.45445913076400757,-0.42726191878318787,-0.20522230863571167,-0.31624361872673035,-0.1052878126502037,-0.048340439796447754,0.18153159320354462,0.21349962055683136,0.13634707033634186,0.20700693130493164,0.15284761786460876,0.12088785320520401,-0.1327047497034073,-0.25645366311073303,-0.2793463468551636,-0.4635680019855499,-0.31017494201660156,-0.26961302757263184,-0.05824780464172363,0.04682111740112305,0.11085560917854309,0.15646544098854065,0.09942813962697983,0.09950609505176544,-0.003030110150575638,-0.13819703459739685,-0.13100384175777435,-0.44715842604637146,-0.2885437309741974,-0.3669940233230591,-0.4388684332370758],\"type\":\"scatter\"}],                        {\"template\":{\"data\":{\"histogram2dcontour\":[{\"type\":\"histogram2dcontour\",\"colorbar\":{\"outlinewidth\":0,\"ticks\":\"\"},\"colorscale\":[[0.0,\"#0d0887\"],[0.1111111111111111,\"#46039f\"],[0.2222222222222222,\"#7201a8\"],[0.3333333333333333,\"#9c179e\"],[0.4444444444444444,\"#bd3786\"],[0.5555555555555556,\"#d8576b\"],[0.6666666666666666,\"#ed7953\"],[0.7777777777777778,\"#fb9f3a\"],[0.8888888888888888,\"#fdca26\"],[1.0,\"#f0f921\"]]}],\"choropleth\":[{\"type\":\"choropleth\",\"colorbar\":{\"outlinewidth\":0,\"ticks\":\"\"}}],\"histogram2d\":[{\"type\":\"histogram2d\",\"colorbar\":{\"outlinewidth\":0,\"ticks\":\"\"},\"colorscale\":[[0.0,\"#0d0887\"],[0.1111111111111111,\"#46039f\"],[0.2222222222222222,\"#7201a8\"],[0.3333333333333333,\"#9c179e\"],[0.4444444444444444,\"#bd3786\"],[0.5555555555555556,\"#d8576b\"],[0.6666666666666666,\"#ed7953\"],[0.7777777777777778,\"#fb9f3a\"],[0.8888888888888888,\"#fdca26\"],[1.0,\"#f0f921\"]]}],\"heatmap\":[{\"type\":\"heatmap\",\"colorbar\":{\"outlinewidth\":0,\"ticks\":\"\"},\"colorscale\":[[0.0,\"#0d0887\"],[0.1111111111111111,\"#46039f\"],[0.2222222222222222,\"#7201a8\"],[0.3333333333333333,\"#9c179e\"],[0.4444444444444444,\"#bd3786\"],[0.5555555555555556,\"#d8576b\"],[0.6666666666666666,\"#ed7953\"],[0.7777777777777778,\"#fb9f3a\"],[0.8888888888888888,\"#fdca26\"],[1.0,\"#f0f921\"]]}],\"heatmapgl\":[{\"type\":\"heatmapgl\",\"colorbar\":{\"outlinewidth\":0,\"ticks\":\"\"},\"colorscale\":[[0.0,\"#0d0887\"],[0.1111111111111111,\"#46039f\"],[0.2222222222222222,\"#7201a8\"],[0.3333333333333333,\"#9c179e\"],[0.4444444444444444,\"#bd3786\"],[0.5555555555555556,\"#d8576b\"],[0.6666666666666666,\"#ed7953\"],[0.7777777777777778,\"#fb9f3a\"],[0.8888888888888888,\"#fdca26\"],[1.0,\"#f0f921\"]]}],\"contourcarpet\":[{\"type\":\"contourcarpet\",\"colorbar\":{\"outlinewidth\":0,\"ticks\":\"\"}}],\"contour\":[{\"type\":\"contour\",\"colorbar\":{\"outlinewidth\":0,\"ticks\":\"\"},\"colorscale\":[[0.0,\"#0d0887\"],[0.1111111111111111,\"#46039f\"],[0.2222222222222222,\"#7201a8\"],[0.3333333333333333,\"#9c179e\"],[0.4444444444444444,\"#bd3786\"],[0.5555555555555556,\"#d8576b\"],[0.6666666666666666,\"#ed7953\"],[0.7777777777777778,\"#fb9f3a\"],[0.8888888888888888,\"#fdca26\"],[1.0,\"#f0f921\"]]}],\"surface\":[{\"type\":\"surface\",\"colorbar\":{\"outlinewidth\":0,\"ticks\":\"\"},\"colorscale\":[[0.0,\"#0d0887\"],[0.1111111111111111,\"#46039f\"],[0.2222222222222222,\"#7201a8\"],[0.3333333333333333,\"#9c179e\"],[0.4444444444444444,\"#bd3786\"],[0.5555555555555556,\"#d8576b\"],[0.6666666666666666,\"#ed7953\"],[0.7777777777777778,\"#fb9f3a\"],[0.8888888888888888,\"#fdca26\"],[1.0,\"#f0f921\"]]}],\"mesh3d\":[{\"type\":\"mesh3d\",\"colorbar\":{\"outlinewidth\":0,\"ticks\":\"\"}}],\"scatter\":[{\"fillpattern\":{\"fillmode\":\"overlay\",\"size\":10,\"solidity\":0.2},\"type\":\"scatter\"}],\"parcoords\":[{\"type\":\"parcoords\",\"line\":{\"colorbar\":{\"outlinewidth\":0,\"ticks\":\"\"}}}],\"scatterpolargl\":[{\"type\":\"scatterpolargl\",\"marker\":{\"colorbar\":{\"outlinewidth\":0,\"ticks\":\"\"}}}],\"bar\":[{\"error_x\":{\"color\":\"#2a3f5f\"},\"error_y\":{\"color\":\"#2a3f5f\"},\"marker\":{\"line\":{\"color\":\"#E5ECF6\",\"width\":0.5},\"pattern\":{\"fillmode\":\"overlay\",\"size\":10,\"solidity\":0.2}},\"type\":\"bar\"}],\"scattergeo\":[{\"type\":\"scattergeo\",\"marker\":{\"colorbar\":{\"outlinewidth\":0,\"ticks\":\"\"}}}],\"scatterpolar\":[{\"type\":\"scatterpolar\",\"marker\":{\"colorbar\":{\"outlinewidth\":0,\"ticks\":\"\"}}}],\"histogram\":[{\"marker\":{\"pattern\":{\"fillmode\":\"overlay\",\"size\":10,\"solidity\":0.2}},\"type\":\"histogram\"}],\"scattergl\":[{\"type\":\"scattergl\",\"marker\":{\"colorbar\":{\"outlinewidth\":0,\"ticks\":\"\"}}}],\"scatter3d\":[{\"type\":\"scatter3d\",\"line\":{\"colorbar\":{\"outlinewidth\":0,\"ticks\":\"\"}},\"marker\":{\"colorbar\":{\"outlinewidth\":0,\"ticks\":\"\"}}}],\"scattermapbox\":[{\"type\":\"scattermapbox\",\"marker\":{\"colorbar\":{\"outlinewidth\":0,\"ticks\":\"\"}}}],\"scatterternary\":[{\"type\":\"scatterternary\",\"marker\":{\"colorbar\":{\"outlinewidth\":0,\"ticks\":\"\"}}}],\"scattercarpet\":[{\"type\":\"scattercarpet\",\"marker\":{\"colorbar\":{\"outlinewidth\":0,\"ticks\":\"\"}}}],\"carpet\":[{\"aaxis\":{\"endlinecolor\":\"#2a3f5f\",\"gridcolor\":\"white\",\"linecolor\":\"white\",\"minorgridcolor\":\"white\",\"startlinecolor\":\"#2a3f5f\"},\"baxis\":{\"endlinecolor\":\"#2a3f5f\",\"gridcolor\":\"white\",\"linecolor\":\"white\",\"minorgridcolor\":\"white\",\"startlinecolor\":\"#2a3f5f\"},\"type\":\"carpet\"}],\"table\":[{\"cells\":{\"fill\":{\"color\":\"#EBF0F8\"},\"line\":{\"color\":\"white\"}},\"header\":{\"fill\":{\"color\":\"#C8D4E3\"},\"line\":{\"color\":\"white\"}},\"type\":\"table\"}],\"barpolar\":[{\"marker\":{\"line\":{\"color\":\"#E5ECF6\",\"width\":0.5},\"pattern\":{\"fillmode\":\"overlay\",\"size\":10,\"solidity\":0.2}},\"type\":\"barpolar\"}],\"pie\":[{\"automargin\":true,\"type\":\"pie\"}]},\"layout\":{\"autotypenumbers\":\"strict\",\"colorway\":[\"#636efa\",\"#EF553B\",\"#00cc96\",\"#ab63fa\",\"#FFA15A\",\"#19d3f3\",\"#FF6692\",\"#B6E880\",\"#FF97FF\",\"#FECB52\"],\"font\":{\"color\":\"#2a3f5f\"},\"hovermode\":\"closest\",\"hoverlabel\":{\"align\":\"left\"},\"paper_bgcolor\":\"white\",\"plot_bgcolor\":\"#E5ECF6\",\"polar\":{\"bgcolor\":\"#E5ECF6\",\"angularaxis\":{\"gridcolor\":\"white\",\"linecolor\":\"white\",\"ticks\":\"\"},\"radialaxis\":{\"gridcolor\":\"white\",\"linecolor\":\"white\",\"ticks\":\"\"}},\"ternary\":{\"bgcolor\":\"#E5ECF6\",\"aaxis\":{\"gridcolor\":\"white\",\"linecolor\":\"white\",\"ticks\":\"\"},\"baxis\":{\"gridcolor\":\"white\",\"linecolor\":\"white\",\"ticks\":\"\"},\"caxis\":{\"gridcolor\":\"white\",\"linecolor\":\"white\",\"ticks\":\"\"}},\"coloraxis\":{\"colorbar\":{\"outlinewidth\":0,\"ticks\":\"\"}},\"colorscale\":{\"sequential\":[[0.0,\"#0d0887\"],[0.1111111111111111,\"#46039f\"],[0.2222222222222222,\"#7201a8\"],[0.3333333333333333,\"#9c179e\"],[0.4444444444444444,\"#bd3786\"],[0.5555555555555556,\"#d8576b\"],[0.6666666666666666,\"#ed7953\"],[0.7777777777777778,\"#fb9f3a\"],[0.8888888888888888,\"#fdca26\"],[1.0,\"#f0f921\"]],\"sequentialminus\":[[0.0,\"#0d0887\"],[0.1111111111111111,\"#46039f\"],[0.2222222222222222,\"#7201a8\"],[0.3333333333333333,\"#9c179e\"],[0.4444444444444444,\"#bd3786\"],[0.5555555555555556,\"#d8576b\"],[0.6666666666666666,\"#ed7953\"],[0.7777777777777778,\"#fb9f3a\"],[0.8888888888888888,\"#fdca26\"],[1.0,\"#f0f921\"]],\"diverging\":[[0,\"#8e0152\"],[0.1,\"#c51b7d\"],[0.2,\"#de77ae\"],[0.3,\"#f1b6da\"],[0.4,\"#fde0ef\"],[0.5,\"#f7f7f7\"],[0.6,\"#e6f5d0\"],[0.7,\"#b8e186\"],[0.8,\"#7fbc41\"],[0.9,\"#4d9221\"],[1,\"#276419\"]]},\"xaxis\":{\"gridcolor\":\"white\",\"linecolor\":\"white\",\"ticks\":\"\",\"title\":{\"standoff\":15},\"zerolinecolor\":\"white\",\"automargin\":true,\"zerolinewidth\":2},\"yaxis\":{\"gridcolor\":\"white\",\"linecolor\":\"white\",\"ticks\":\"\",\"title\":{\"standoff\":15},\"zerolinecolor\":\"white\",\"automargin\":true,\"zerolinewidth\":2},\"scene\":{\"xaxis\":{\"backgroundcolor\":\"#E5ECF6\",\"gridcolor\":\"white\",\"linecolor\":\"white\",\"showbackground\":true,\"ticks\":\"\",\"zerolinecolor\":\"white\",\"gridwidth\":2},\"yaxis\":{\"backgroundcolor\":\"#E5ECF6\",\"gridcolor\":\"white\",\"linecolor\":\"white\",\"showbackground\":true,\"ticks\":\"\",\"zerolinecolor\":\"white\",\"gridwidth\":2},\"zaxis\":{\"backgroundcolor\":\"#E5ECF6\",\"gridcolor\":\"white\",\"linecolor\":\"white\",\"showbackground\":true,\"ticks\":\"\",\"zerolinecolor\":\"white\",\"gridwidth\":2}},\"shapedefaults\":{\"line\":{\"color\":\"#2a3f5f\"}},\"annotationdefaults\":{\"arrowcolor\":\"#2a3f5f\",\"arrowhead\":0,\"arrowwidth\":1},\"geo\":{\"bgcolor\":\"white\",\"landcolor\":\"#E5ECF6\",\"subunitcolor\":\"white\",\"showland\":true,\"showlakes\":true,\"lakecolor\":\"white\"},\"title\":{\"x\":0.05},\"mapbox\":{\"style\":\"light\"}}},\"font\":{\"family\":\"DejaVu Serif\",\"size\":18,\"color\":\"RebeccaPurple\"},\"title\":{\"text\":\"Recovery of time serie\"},\"xaxis\":{\"title\":{\"text\":\"time, sec\"}},\"legend\":{\"title\":{\"text\":\"Legend Title\"}}},                        {\"responsive\": true}                    ).then(function(){\n",
              "                            \n",
              "var gd = document.getElementById('5376a42d-debe-4172-960f-2a7d1f8db048');\n",
              "var x = new MutationObserver(function (mutations, observer) {{\n",
              "        var display = window.getComputedStyle(gd).display;\n",
              "        if (!display || display === 'none') {{\n",
              "            console.log([gd, 'removed!']);\n",
              "            Plotly.purge(gd);\n",
              "            observer.disconnect();\n",
              "        }}\n",
              "}});\n",
              "\n",
              "// Listen for the removal of the full notebook cells\n",
              "var notebookContainer = gd.closest('#notebook-container');\n",
              "if (notebookContainer) {{\n",
              "    x.observe(notebookContainer, {childList: true});\n",
              "}}\n",
              "\n",
              "// Listen for the clearing of the current output cell\n",
              "var outputEl = gd.closest('.output');\n",
              "if (outputEl) {{\n",
              "    x.observe(outputEl, {childList: true});\n",
              "}}\n",
              "\n",
              "                        })                };                            </script>        </div>\n",
              "</body>\n",
              "</html>"
            ]
          },
          "metadata": {}
        }
      ]
    },
    {
      "cell_type": "code",
      "source": [
        "model"
      ],
      "metadata": {
        "colab": {
          "base_uri": "https://localhost:8080/"
        },
        "id": "9BTItc5DjshY",
        "outputId": "e7d7bac0-0e79-48ea-bd33-1b0b929526b9"
      },
      "execution_count": 51,
      "outputs": [
        {
          "output_type": "execute_result",
          "data": {
            "text/plain": [
              "Sequential(\n",
              "  (0): BayesLinear(prior_mu=0.01, prior_sigma=0.1, in_features=100, out_features=3, bias=True)\n",
              "  (1): ReLU()\n",
              "  (2): BayesLinear(prior_mu=0.01, prior_sigma=0.1, in_features=3, out_features=100, bias=True)\n",
              ")"
            ]
          },
          "metadata": {},
          "execution_count": 51
        }
      ]
    },
    {
      "cell_type": "code",
      "source": [
        "model[0]"
      ],
      "metadata": {
        "colab": {
          "base_uri": "https://localhost:8080/"
        },
        "id": "k2kZhXQFjwid",
        "outputId": "53a98263-012f-458f-b920-0c6151e8d3fd"
      },
      "execution_count": 52,
      "outputs": [
        {
          "output_type": "execute_result",
          "data": {
            "text/plain": [
              "BayesLinear(prior_mu=0.01, prior_sigma=0.1, in_features=100, out_features=3, bias=True)"
            ]
          },
          "metadata": {},
          "execution_count": 52
        }
      ]
    },
    {
      "cell_type": "code",
      "source": [
        "learned_mu = model[0].weight_mu\n",
        "learned_logsigma = model[0].weight_log_sigma"
      ],
      "metadata": {
        "id": "NoX0GaJ9j4Kh"
      },
      "execution_count": 55,
      "outputs": []
    },
    {
      "cell_type": "code",
      "source": [],
      "metadata": {
        "id": "Mgaj8DpLklx3"
      },
      "execution_count": null,
      "outputs": []
    },
    {
      "cell_type": "code",
      "source": [
        "learned_mu.shape"
      ],
      "metadata": {
        "colab": {
          "base_uri": "https://localhost:8080/"
        },
        "id": "XTyCT1vukid9",
        "outputId": "6da11766-a1e0-4ebe-b957-9a659122a9a3"
      },
      "execution_count": 57,
      "outputs": [
        {
          "output_type": "execute_result",
          "data": {
            "text/plain": [
              "torch.Size([3, 100])"
            ]
          },
          "metadata": {},
          "execution_count": 57
        }
      ]
    },
    {
      "cell_type": "code",
      "source": [
        "learned_logsigma.shape"
      ],
      "metadata": {
        "colab": {
          "base_uri": "https://localhost:8080/"
        },
        "id": "jK5ccvVMj7Fk",
        "outputId": "a73e1d0d-9120-42f2-a8fa-b669e0d917cf"
      },
      "execution_count": 59,
      "outputs": [
        {
          "output_type": "execute_result",
          "data": {
            "text/plain": [
              "torch.Size([3, 100])"
            ]
          },
          "metadata": {},
          "execution_count": 59
        }
      ]
    },
    {
      "cell_type": "code",
      "source": [],
      "metadata": {
        "id": "e3LLcq6KkAHA"
      },
      "execution_count": null,
      "outputs": []
    },
    {
      "cell_type": "code",
      "source": [
        "for step in range(3000):\n",
        "    pre = model(x)\n",
        "    mse = mse_loss(pre, y)\n",
        "    kl = kl_loss(model)\n",
        "    cost = mse + kl_weight*kl\n",
        "    \n",
        "    optimizer.zero_grad()\n",
        "    cost.backward()\n",
        "    optimizer.step()\n",
        "    \n",
        "print('- MSE : %2.2f, KL : %2.2f' % (mse.item(), kl.item()))"
      ],
      "metadata": {
        "id": "6k9LcU2Dc3Vh"
      },
      "execution_count": null,
      "outputs": []
    }
  ]
}